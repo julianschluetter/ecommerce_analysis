{
 "cells": [
  {
   "cell_type": "markdown",
   "id": "b4653ff9",
   "metadata": {},
   "source": [
    "# Product Range Analysis\n",
    "\n",
    "#### Scope of this project:\n",
    "The overall goal is to identify top selling products and key customers and at the same time to drastically reduce total product offer in order to increase efficiency and profitability.\n",
    "Moreover, less focus is put on cancellations, returns, bank charges or postage as we try to focus more on predictions about optimal description length and seasonality."
   ]
  },
  {
   "cell_type": "code",
   "execution_count": 1,
   "id": "322226d1",
   "metadata": {},
   "outputs": [],
   "source": [
    "# Data Structures\n",
    "import numpy  as np\n",
    "import pandas as pd\n",
    "import json\n",
    "\n",
    "# Corpus Processing\n",
    "import re\n",
    "import nltk.corpus\n",
    "from unidecode                        import unidecode\n",
    "from nltk.tokenize                    import word_tokenize\n",
    "from nltk                             import SnowballStemmer\n",
    "from sklearn.feature_extraction.text  import TfidfVectorizer\n",
    "from sklearn.preprocessing            import normalize\n",
    "\n",
    "# K-Means\n",
    "from sklearn import cluster\n",
    "\n",
    "# Visualization and Analysis\n",
    "import matplotlib.pyplot  as plt\n",
    "import matplotlib.cm      as cm\n",
    "import seaborn            as sb\n",
    "from sklearn.metrics                  import silhouette_samples, silhouette_score\n",
    "\n",
    "from nltk.corpus import stopwords\n",
    "from datetime import timedelta\n",
    "import squarify"
   ]
  },
  {
   "cell_type": "code",
   "execution_count": 2,
   "id": "db6dd27b",
   "metadata": {},
   "outputs": [
    {
     "data": {
      "text/html": [
       "<div>\n",
       "<style scoped>\n",
       "    .dataframe tbody tr th:only-of-type {\n",
       "        vertical-align: middle;\n",
       "    }\n",
       "\n",
       "    .dataframe tbody tr th {\n",
       "        vertical-align: top;\n",
       "    }\n",
       "\n",
       "    .dataframe thead th {\n",
       "        text-align: right;\n",
       "    }\n",
       "</style>\n",
       "<table border=\"1\" class=\"dataframe\">\n",
       "  <thead>\n",
       "    <tr style=\"text-align: right;\">\n",
       "      <th></th>\n",
       "      <th>InvoiceNo;StockCode;Description;Quantity;InvoiceDate;UnitPrice;CustomerID</th>\n",
       "    </tr>\n",
       "  </thead>\n",
       "  <tbody>\n",
       "    <tr>\n",
       "      <th>0</th>\n",
       "      <td>536365;85123A;WHITE HANGING HEART T-LIGHT HOLD...</td>\n",
       "    </tr>\n",
       "    <tr>\n",
       "      <th>1</th>\n",
       "      <td>536365;71053;WHITE METAL LANTERN;6;11/29/2018 ...</td>\n",
       "    </tr>\n",
       "    <tr>\n",
       "      <th>2</th>\n",
       "      <td>536365;84406B;CREAM CUPID HEARTS COAT HANGER;8...</td>\n",
       "    </tr>\n",
       "    <tr>\n",
       "      <th>3</th>\n",
       "      <td>536365;84029G;KNITTED UNION FLAG HOT WATER BOT...</td>\n",
       "    </tr>\n",
       "    <tr>\n",
       "      <th>4</th>\n",
       "      <td>536365;84029E;RED WOOLLY HOTTIE WHITE HEART.;6...</td>\n",
       "    </tr>\n",
       "  </tbody>\n",
       "</table>\n",
       "</div>"
      ],
      "text/plain": [
       "  InvoiceNo;StockCode;Description;Quantity;InvoiceDate;UnitPrice;CustomerID\n",
       "0  536365;85123A;WHITE HANGING HEART T-LIGHT HOLD...                       \n",
       "1  536365;71053;WHITE METAL LANTERN;6;11/29/2018 ...                       \n",
       "2  536365;84406B;CREAM CUPID HEARTS COAT HANGER;8...                       \n",
       "3  536365;84029G;KNITTED UNION FLAG HOT WATER BOT...                       \n",
       "4  536365;84029E;RED WOOLLY HOTTIE WHITE HEART.;6...                       "
      ]
     },
     "execution_count": 2,
     "metadata": {},
     "output_type": "execute_result"
    }
   ],
   "source": [
    "# read data\n",
    "df_pre = pd.read_csv('ecommerce_data.csv', sep='\\t')\n",
    "#check data\n",
    "df_pre.head()"
   ]
  },
  {
   "cell_type": "markdown",
   "id": "f375587a",
   "metadata": {},
   "source": [
    "## 1. Data Exploration and Preprocssing"
   ]
  },
  {
   "cell_type": "code",
   "execution_count": 3,
   "id": "d7d6bebc",
   "metadata": {},
   "outputs": [],
   "source": [
    "#Split data to get columns that are easy to interpret\n",
    "df_imd = df_pre['InvoiceNo;StockCode;Description;Quantity;InvoiceDate;UnitPrice;CustomerID'].str.split(pat=';',expand=True)\n",
    "# rename columns\n",
    "df_imd.columns = ['InvoiceNo','StockCode','Description', 'Quantity', 'InvoiceDate','UnitPrice','CustomerID']"
   ]
  },
  {
   "cell_type": "code",
   "execution_count": 4,
   "id": "f262566c",
   "metadata": {},
   "outputs": [
    {
     "data": {
      "text/html": [
       "<div>\n",
       "<style scoped>\n",
       "    .dataframe tbody tr th:only-of-type {\n",
       "        vertical-align: middle;\n",
       "    }\n",
       "\n",
       "    .dataframe tbody tr th {\n",
       "        vertical-align: top;\n",
       "    }\n",
       "\n",
       "    .dataframe thead th {\n",
       "        text-align: right;\n",
       "    }\n",
       "</style>\n",
       "<table border=\"1\" class=\"dataframe\">\n",
       "  <thead>\n",
       "    <tr style=\"text-align: right;\">\n",
       "      <th></th>\n",
       "      <th>InvoiceNo</th>\n",
       "      <th>StockCode</th>\n",
       "      <th>Description</th>\n",
       "      <th>Quantity</th>\n",
       "      <th>InvoiceDate</th>\n",
       "      <th>UnitPrice</th>\n",
       "      <th>CustomerID</th>\n",
       "    </tr>\n",
       "  </thead>\n",
       "  <tbody>\n",
       "    <tr>\n",
       "      <th>0</th>\n",
       "      <td>536365</td>\n",
       "      <td>85123A</td>\n",
       "      <td>WHITE HANGING HEART T-LIGHT HOLDER</td>\n",
       "      <td>6</td>\n",
       "      <td>11/29/2018 08:26</td>\n",
       "      <td>2.55</td>\n",
       "      <td>17850</td>\n",
       "    </tr>\n",
       "    <tr>\n",
       "      <th>1</th>\n",
       "      <td>536365</td>\n",
       "      <td>71053</td>\n",
       "      <td>WHITE METAL LANTERN</td>\n",
       "      <td>6</td>\n",
       "      <td>11/29/2018 08:26</td>\n",
       "      <td>3.39</td>\n",
       "      <td>17850</td>\n",
       "    </tr>\n",
       "    <tr>\n",
       "      <th>2</th>\n",
       "      <td>536365</td>\n",
       "      <td>84406B</td>\n",
       "      <td>CREAM CUPID HEARTS COAT HANGER</td>\n",
       "      <td>8</td>\n",
       "      <td>11/29/2018 08:26</td>\n",
       "      <td>2.75</td>\n",
       "      <td>17850</td>\n",
       "    </tr>\n",
       "    <tr>\n",
       "      <th>3</th>\n",
       "      <td>536365</td>\n",
       "      <td>84029G</td>\n",
       "      <td>KNITTED UNION FLAG HOT WATER BOTTLE</td>\n",
       "      <td>6</td>\n",
       "      <td>11/29/2018 08:26</td>\n",
       "      <td>3.39</td>\n",
       "      <td>17850</td>\n",
       "    </tr>\n",
       "    <tr>\n",
       "      <th>4</th>\n",
       "      <td>536365</td>\n",
       "      <td>84029E</td>\n",
       "      <td>RED WOOLLY HOTTIE WHITE HEART.</td>\n",
       "      <td>6</td>\n",
       "      <td>11/29/2018 08:26</td>\n",
       "      <td>3.39</td>\n",
       "      <td>17850</td>\n",
       "    </tr>\n",
       "    <tr>\n",
       "      <th>...</th>\n",
       "      <td>...</td>\n",
       "      <td>...</td>\n",
       "      <td>...</td>\n",
       "      <td>...</td>\n",
       "      <td>...</td>\n",
       "      <td>...</td>\n",
       "      <td>...</td>\n",
       "    </tr>\n",
       "    <tr>\n",
       "      <th>107</th>\n",
       "      <td>536381</td>\n",
       "      <td>84854</td>\n",
       "      <td>GIRLY PINK TOOL SET</td>\n",
       "      <td>5</td>\n",
       "      <td>11/29/2018 09:41</td>\n",
       "      <td>4.95</td>\n",
       "      <td>15311</td>\n",
       "    </tr>\n",
       "    <tr>\n",
       "      <th>108</th>\n",
       "      <td>536381</td>\n",
       "      <td>22411</td>\n",
       "      <td>JUMBO SHOPPER VINTAGE RED PAISLEY</td>\n",
       "      <td>10</td>\n",
       "      <td>11/29/2018 09:41</td>\n",
       "      <td>1.95</td>\n",
       "      <td>15311</td>\n",
       "    </tr>\n",
       "    <tr>\n",
       "      <th>109</th>\n",
       "      <td>536381</td>\n",
       "      <td>82567</td>\n",
       "      <td>AIRLINE LOUNGE,METAL SIGN</td>\n",
       "      <td>2</td>\n",
       "      <td>11/29/2018 09:41</td>\n",
       "      <td>2.1</td>\n",
       "      <td>15311</td>\n",
       "    </tr>\n",
       "    <tr>\n",
       "      <th>110</th>\n",
       "      <td>536381</td>\n",
       "      <td>21672</td>\n",
       "      <td>WHITE SPOT RED CERAMIC DRAWER KNOB</td>\n",
       "      <td>6</td>\n",
       "      <td>11/29/2018 09:41</td>\n",
       "      <td>1.25</td>\n",
       "      <td>15311</td>\n",
       "    </tr>\n",
       "    <tr>\n",
       "      <th>111</th>\n",
       "      <td>536381</td>\n",
       "      <td>22774</td>\n",
       "      <td>RED DRAWER KNOB ACRYLIC EDWARDIAN</td>\n",
       "      <td>24</td>\n",
       "      <td>11/29/2018 09:41</td>\n",
       "      <td>1.25</td>\n",
       "      <td>15311</td>\n",
       "    </tr>\n",
       "  </tbody>\n",
       "</table>\n",
       "<p>112 rows × 7 columns</p>\n",
       "</div>"
      ],
      "text/plain": [
       "    InvoiceNo StockCode                          Description Quantity  \\\n",
       "0      536365    85123A   WHITE HANGING HEART T-LIGHT HOLDER        6   \n",
       "1      536365     71053                  WHITE METAL LANTERN        6   \n",
       "2      536365    84406B       CREAM CUPID HEARTS COAT HANGER        8   \n",
       "3      536365    84029G  KNITTED UNION FLAG HOT WATER BOTTLE        6   \n",
       "4      536365    84029E       RED WOOLLY HOTTIE WHITE HEART.        6   \n",
       "..        ...       ...                                  ...      ...   \n",
       "107    536381     84854                  GIRLY PINK TOOL SET        5   \n",
       "108    536381     22411    JUMBO SHOPPER VINTAGE RED PAISLEY       10   \n",
       "109    536381     82567            AIRLINE LOUNGE,METAL SIGN        2   \n",
       "110    536381     21672   WHITE SPOT RED CERAMIC DRAWER KNOB        6   \n",
       "111    536381     22774    RED DRAWER KNOB ACRYLIC EDWARDIAN       24   \n",
       "\n",
       "          InvoiceDate UnitPrice CustomerID  \n",
       "0    11/29/2018 08:26      2.55      17850  \n",
       "1    11/29/2018 08:26      3.39      17850  \n",
       "2    11/29/2018 08:26      2.75      17850  \n",
       "3    11/29/2018 08:26      3.39      17850  \n",
       "4    11/29/2018 08:26      3.39      17850  \n",
       "..                ...       ...        ...  \n",
       "107  11/29/2018 09:41      4.95      15311  \n",
       "108  11/29/2018 09:41      1.95      15311  \n",
       "109  11/29/2018 09:41       2.1      15311  \n",
       "110  11/29/2018 09:41      1.25      15311  \n",
       "111  11/29/2018 09:41      1.25      15311  \n",
       "\n",
       "[112 rows x 7 columns]"
      ]
     },
     "execution_count": 4,
     "metadata": {},
     "output_type": "execute_result"
    }
   ],
   "source": [
    "# check columns\n",
    "df_imd.head(112)"
   ]
  },
  {
   "cell_type": "code",
   "execution_count": 5,
   "id": "f45d5a83",
   "metadata": {},
   "outputs": [],
   "source": [
    "# copy data\n",
    "df = df_imd.copy()"
   ]
  },
  {
   "cell_type": "code",
   "execution_count": 6,
   "id": "ae4f25fd",
   "metadata": {},
   "outputs": [
    {
     "name": "stdout",
     "output_type": "stream",
     "text": [
      "<class 'pandas.core.frame.DataFrame'>\n",
      "RangeIndex: 541909 entries, 0 to 541908\n",
      "Data columns (total 7 columns):\n",
      " #   Column       Non-Null Count   Dtype \n",
      "---  ------       --------------   ----- \n",
      " 0   InvoiceNo    541909 non-null  object\n",
      " 1   StockCode    541909 non-null  object\n",
      " 2   Description  541909 non-null  object\n",
      " 3   Quantity     541909 non-null  object\n",
      " 4   InvoiceDate  541909 non-null  object\n",
      " 5   UnitPrice    541909 non-null  object\n",
      " 6   CustomerID   541909 non-null  object\n",
      "dtypes: object(7)\n",
      "memory usage: 28.9+ MB\n"
     ]
    }
   ],
   "source": [
    "# inspecting data\n",
    "df.info()"
   ]
  },
  {
   "cell_type": "code",
   "execution_count": 7,
   "id": "99c5f830",
   "metadata": {},
   "outputs": [],
   "source": [
    "#change data types\n",
    "df['Quantity'] = df['Quantity'].astype('int')\n",
    "df['UnitPrice'] = df['UnitPrice'].astype('float')\n",
    "df['InvoiceDate'] = pd.to_datetime(df['InvoiceDate'])"
   ]
  },
  {
   "cell_type": "code",
   "execution_count": 8,
   "id": "0c9acd84",
   "metadata": {},
   "outputs": [
    {
     "data": {
      "text/plain": [
       "InvoiceNo      0\n",
       "StockCode      0\n",
       "Description    0\n",
       "Quantity       0\n",
       "InvoiceDate    0\n",
       "UnitPrice      0\n",
       "CustomerID     0\n",
       "dtype: int64"
      ]
     },
     "execution_count": 8,
     "metadata": {},
     "output_type": "execute_result"
    }
   ],
   "source": [
    "# checking for null values\n",
    "df.isnull().sum()"
   ]
  },
  {
   "cell_type": "markdown",
   "id": "74ab1f61",
   "metadata": {},
   "source": [
    "The code does not display null values, but it is easy to see that there are some in the Customer ID and Description Column by just doing visual assessment."
   ]
  },
  {
   "cell_type": "code",
   "execution_count": 9,
   "id": "fa4d56ab",
   "metadata": {},
   "outputs": [],
   "source": [
    "# identifying missing values as null values\n",
    "for column in df.columns:\n",
    "    df[column] = df[column].replace('',np.nan)"
   ]
  },
  {
   "cell_type": "code",
   "execution_count": 10,
   "id": "4dc457b7",
   "metadata": {},
   "outputs": [
    {
     "data": {
      "text/plain": [
       "InvoiceNo           0\n",
       "StockCode           0\n",
       "Description      1454\n",
       "Quantity            0\n",
       "InvoiceDate         0\n",
       "UnitPrice           0\n",
       "CustomerID     135080\n",
       "dtype: int64"
      ]
     },
     "execution_count": 10,
     "metadata": {},
     "output_type": "execute_result"
    }
   ],
   "source": [
    "df.isnull().sum()"
   ]
  },
  {
   "cell_type": "code",
   "execution_count": 11,
   "id": "71808e2b",
   "metadata": {},
   "outputs": [
    {
     "data": {
      "text/html": [
       "<div>\n",
       "<style scoped>\n",
       "    .dataframe tbody tr th:only-of-type {\n",
       "        vertical-align: middle;\n",
       "    }\n",
       "\n",
       "    .dataframe tbody tr th {\n",
       "        vertical-align: top;\n",
       "    }\n",
       "\n",
       "    .dataframe thead th {\n",
       "        text-align: right;\n",
       "    }\n",
       "</style>\n",
       "<table border=\"1\" class=\"dataframe\">\n",
       "  <thead>\n",
       "    <tr style=\"text-align: right;\">\n",
       "      <th></th>\n",
       "      <th>InvoiceNo</th>\n",
       "      <th>StockCode</th>\n",
       "      <th>Description</th>\n",
       "      <th>Quantity</th>\n",
       "      <th>InvoiceDate</th>\n",
       "      <th>UnitPrice</th>\n",
       "      <th>CustomerID</th>\n",
       "    </tr>\n",
       "  </thead>\n",
       "  <tbody>\n",
       "    <tr>\n",
       "      <th>622</th>\n",
       "      <td>536414</td>\n",
       "      <td>22139</td>\n",
       "      <td>NaN</td>\n",
       "      <td>56</td>\n",
       "      <td>2018-11-29 11:52:00</td>\n",
       "      <td>0.0</td>\n",
       "      <td>NaN</td>\n",
       "    </tr>\n",
       "    <tr>\n",
       "      <th>1970</th>\n",
       "      <td>536545</td>\n",
       "      <td>21134</td>\n",
       "      <td>NaN</td>\n",
       "      <td>1</td>\n",
       "      <td>2018-11-29 14:32:00</td>\n",
       "      <td>0.0</td>\n",
       "      <td>NaN</td>\n",
       "    </tr>\n",
       "    <tr>\n",
       "      <th>1971</th>\n",
       "      <td>536546</td>\n",
       "      <td>22145</td>\n",
       "      <td>NaN</td>\n",
       "      <td>1</td>\n",
       "      <td>2018-11-29 14:33:00</td>\n",
       "      <td>0.0</td>\n",
       "      <td>NaN</td>\n",
       "    </tr>\n",
       "    <tr>\n",
       "      <th>1972</th>\n",
       "      <td>536547</td>\n",
       "      <td>37509</td>\n",
       "      <td>NaN</td>\n",
       "      <td>1</td>\n",
       "      <td>2018-11-29 14:33:00</td>\n",
       "      <td>0.0</td>\n",
       "      <td>NaN</td>\n",
       "    </tr>\n",
       "    <tr>\n",
       "      <th>1987</th>\n",
       "      <td>536549</td>\n",
       "      <td>85226A</td>\n",
       "      <td>NaN</td>\n",
       "      <td>1</td>\n",
       "      <td>2018-11-29 14:34:00</td>\n",
       "      <td>0.0</td>\n",
       "      <td>NaN</td>\n",
       "    </tr>\n",
       "  </tbody>\n",
       "</table>\n",
       "</div>"
      ],
      "text/plain": [
       "     InvoiceNo StockCode Description  Quantity         InvoiceDate  UnitPrice  \\\n",
       "622     536414     22139         NaN        56 2018-11-29 11:52:00        0.0   \n",
       "1970    536545     21134         NaN         1 2018-11-29 14:32:00        0.0   \n",
       "1971    536546     22145         NaN         1 2018-11-29 14:33:00        0.0   \n",
       "1972    536547     37509         NaN         1 2018-11-29 14:33:00        0.0   \n",
       "1987    536549    85226A         NaN         1 2018-11-29 14:34:00        0.0   \n",
       "\n",
       "     CustomerID  \n",
       "622         NaN  \n",
       "1970        NaN  \n",
       "1971        NaN  \n",
       "1972        NaN  \n",
       "1987        NaN  "
      ]
     },
     "metadata": {},
     "output_type": "display_data"
    },
    {
     "name": "stdout",
     "output_type": "stream",
     "text": [
      "- The Unit Price mean of products with missing Description is 0.0.\n"
     ]
    }
   ],
   "source": [
    "# inspecting the small amount of missing description data\n",
    "display(df[df['Description'].isna()].head())\n",
    "print('- The Unit Price mean of products with missing Description is {}.'.format(df[df['Description'].isna()]['UnitPrice'].mean()))"
   ]
  },
  {
   "cell_type": "markdown",
   "id": "e402370a",
   "metadata": {},
   "source": [
    "About one third of total CustomerIDs is missing, so it would be difficult if we would delete all of them. Besides, there are 1454 missing values for Description. I will delete them because they only account for a very small percentage of the data, sometimes have negative quantities (which is confusing at first glance) and all have a unit price of 0.0."
   ]
  },
  {
   "cell_type": "code",
   "execution_count": 12,
   "id": "3a0d0af9",
   "metadata": {},
   "outputs": [],
   "source": [
    "# delete rows with missing Description data\n",
    "df.dropna(subset=['Description'], how='any', inplace=True)"
   ]
  },
  {
   "cell_type": "code",
   "execution_count": 13,
   "id": "532bfbfe",
   "metadata": {},
   "outputs": [
    {
     "data": {
      "text/html": [
       "<div>\n",
       "<style scoped>\n",
       "    .dataframe tbody tr th:only-of-type {\n",
       "        vertical-align: middle;\n",
       "    }\n",
       "\n",
       "    .dataframe tbody tr th {\n",
       "        vertical-align: top;\n",
       "    }\n",
       "\n",
       "    .dataframe thead th {\n",
       "        text-align: right;\n",
       "    }\n",
       "</style>\n",
       "<table border=\"1\" class=\"dataframe\">\n",
       "  <thead>\n",
       "    <tr style=\"text-align: right;\">\n",
       "      <th></th>\n",
       "      <th>InvoiceNo</th>\n",
       "      <th>StockCode</th>\n",
       "      <th>Description</th>\n",
       "      <th>Quantity</th>\n",
       "      <th>InvoiceDate</th>\n",
       "      <th>UnitPrice</th>\n",
       "      <th>CustomerID</th>\n",
       "    </tr>\n",
       "  </thead>\n",
       "  <tbody>\n",
       "    <tr>\n",
       "      <th>517</th>\n",
       "      <td>536409</td>\n",
       "      <td>21866</td>\n",
       "      <td>UNION JACK FLAG LUGGAGE TAG</td>\n",
       "      <td>1</td>\n",
       "      <td>2018-11-29 11:45:00</td>\n",
       "      <td>1.25</td>\n",
       "      <td>17908</td>\n",
       "    </tr>\n",
       "    <tr>\n",
       "      <th>527</th>\n",
       "      <td>536409</td>\n",
       "      <td>22866</td>\n",
       "      <td>HAND WARMER SCOTTY DOG DESIGN</td>\n",
       "      <td>1</td>\n",
       "      <td>2018-11-29 11:45:00</td>\n",
       "      <td>2.10</td>\n",
       "      <td>17908</td>\n",
       "    </tr>\n",
       "    <tr>\n",
       "      <th>537</th>\n",
       "      <td>536409</td>\n",
       "      <td>22900</td>\n",
       "      <td>SET 2 TEA TOWELS I LOVE LONDON</td>\n",
       "      <td>1</td>\n",
       "      <td>2018-11-29 11:45:00</td>\n",
       "      <td>2.95</td>\n",
       "      <td>17908</td>\n",
       "    </tr>\n",
       "    <tr>\n",
       "      <th>539</th>\n",
       "      <td>536409</td>\n",
       "      <td>22111</td>\n",
       "      <td>SCOTTIE DOG HOT WATER BOTTLE</td>\n",
       "      <td>1</td>\n",
       "      <td>2018-11-29 11:45:00</td>\n",
       "      <td>4.95</td>\n",
       "      <td>17908</td>\n",
       "    </tr>\n",
       "    <tr>\n",
       "      <th>555</th>\n",
       "      <td>536412</td>\n",
       "      <td>22327</td>\n",
       "      <td>ROUND SNACK BOXES SET OF 4 SKULLS</td>\n",
       "      <td>1</td>\n",
       "      <td>2018-11-29 11:49:00</td>\n",
       "      <td>2.95</td>\n",
       "      <td>17920</td>\n",
       "    </tr>\n",
       "    <tr>\n",
       "      <th>...</th>\n",
       "      <td>...</td>\n",
       "      <td>...</td>\n",
       "      <td>...</td>\n",
       "      <td>...</td>\n",
       "      <td>...</td>\n",
       "      <td>...</td>\n",
       "      <td>...</td>\n",
       "    </tr>\n",
       "    <tr>\n",
       "      <th>541675</th>\n",
       "      <td>581538</td>\n",
       "      <td>22068</td>\n",
       "      <td>BLACK PIRATE TREASURE CHEST</td>\n",
       "      <td>1</td>\n",
       "      <td>2019-12-07 11:34:00</td>\n",
       "      <td>0.39</td>\n",
       "      <td>14446</td>\n",
       "    </tr>\n",
       "    <tr>\n",
       "      <th>541689</th>\n",
       "      <td>581538</td>\n",
       "      <td>23318</td>\n",
       "      <td>BOX OF 6 MINI VINTAGE CRACKERS</td>\n",
       "      <td>1</td>\n",
       "      <td>2019-12-07 11:34:00</td>\n",
       "      <td>2.49</td>\n",
       "      <td>14446</td>\n",
       "    </tr>\n",
       "    <tr>\n",
       "      <th>541692</th>\n",
       "      <td>581538</td>\n",
       "      <td>22992</td>\n",
       "      <td>REVOLVER WOODEN RULER</td>\n",
       "      <td>1</td>\n",
       "      <td>2019-12-07 11:34:00</td>\n",
       "      <td>1.95</td>\n",
       "      <td>14446</td>\n",
       "    </tr>\n",
       "    <tr>\n",
       "      <th>541699</th>\n",
       "      <td>581538</td>\n",
       "      <td>22694</td>\n",
       "      <td>WICKER STAR</td>\n",
       "      <td>1</td>\n",
       "      <td>2019-12-07 11:34:00</td>\n",
       "      <td>2.10</td>\n",
       "      <td>14446</td>\n",
       "    </tr>\n",
       "    <tr>\n",
       "      <th>541701</th>\n",
       "      <td>581538</td>\n",
       "      <td>23343</td>\n",
       "      <td>JUMBO BAG VINTAGE CHRISTMAS</td>\n",
       "      <td>1</td>\n",
       "      <td>2019-12-07 11:34:00</td>\n",
       "      <td>2.08</td>\n",
       "      <td>14446</td>\n",
       "    </tr>\n",
       "  </tbody>\n",
       "</table>\n",
       "<p>5268 rows × 7 columns</p>\n",
       "</div>"
      ],
      "text/plain": [
       "       InvoiceNo StockCode                        Description  Quantity  \\\n",
       "517       536409     21866        UNION JACK FLAG LUGGAGE TAG         1   \n",
       "527       536409     22866      HAND WARMER SCOTTY DOG DESIGN         1   \n",
       "537       536409     22900    SET 2 TEA TOWELS I LOVE LONDON          1   \n",
       "539       536409     22111       SCOTTIE DOG HOT WATER BOTTLE         1   \n",
       "555       536412     22327  ROUND SNACK BOXES SET OF 4 SKULLS         1   \n",
       "...          ...       ...                                ...       ...   \n",
       "541675    581538     22068        BLACK PIRATE TREASURE CHEST         1   \n",
       "541689    581538     23318     BOX OF 6 MINI VINTAGE CRACKERS         1   \n",
       "541692    581538     22992             REVOLVER WOODEN RULER          1   \n",
       "541699    581538     22694                       WICKER STAR          1   \n",
       "541701    581538     23343       JUMBO BAG VINTAGE CHRISTMAS          1   \n",
       "\n",
       "               InvoiceDate  UnitPrice CustomerID  \n",
       "517    2018-11-29 11:45:00       1.25      17908  \n",
       "527    2018-11-29 11:45:00       2.10      17908  \n",
       "537    2018-11-29 11:45:00       2.95      17908  \n",
       "539    2018-11-29 11:45:00       4.95      17908  \n",
       "555    2018-11-29 11:49:00       2.95      17920  \n",
       "...                    ...        ...        ...  \n",
       "541675 2019-12-07 11:34:00       0.39      14446  \n",
       "541689 2019-12-07 11:34:00       2.49      14446  \n",
       "541692 2019-12-07 11:34:00       1.95      14446  \n",
       "541699 2019-12-07 11:34:00       2.10      14446  \n",
       "541701 2019-12-07 11:34:00       2.08      14446  \n",
       "\n",
       "[5268 rows x 7 columns]"
      ]
     },
     "execution_count": 13,
     "metadata": {},
     "output_type": "execute_result"
    }
   ],
   "source": [
    "# checking for duplicate values\n",
    "df[df.duplicated() == True]"
   ]
  },
  {
   "cell_type": "code",
   "execution_count": 14,
   "id": "77bcd6cf",
   "metadata": {},
   "outputs": [],
   "source": [
    "# deleting the 5269 duplicate rows (I have also rechecked if the duplicates are due to the fact that I had removed the time from\n",
    "# the date column in a previous cell but this is not the case.)\n",
    "df.drop_duplicates(keep='first', inplace=True)"
   ]
  },
  {
   "cell_type": "code",
   "execution_count": 15,
   "id": "8e6ece10",
   "metadata": {},
   "outputs": [
    {
     "data": {
      "text/plain": [
       "count    535187.000000\n",
       "mean          9.671593\n",
       "std         219.059056\n",
       "min      -80995.000000\n",
       "25%           1.000000\n",
       "50%           3.000000\n",
       "75%          10.000000\n",
       "max       80995.000000\n",
       "Name: Quantity, dtype: float64"
      ]
     },
     "execution_count": 15,
     "metadata": {},
     "output_type": "execute_result"
    }
   ],
   "source": [
    "# checking quantity column for anomalies and outliers\n",
    "df['Quantity'].describe()"
   ]
  },
  {
   "cell_type": "code",
   "execution_count": 16,
   "id": "6bd97291",
   "metadata": {},
   "outputs": [],
   "source": [
    "# we can see that there are 9725 rows with negative quantities, most of them containing a C in their Invoice, which probably\n",
    "# refers to something like cancellation or products that were thrown away. For my particular analysis, negative values are\n",
    "# irrelevant and can be removed completely as they don't add any value to my hypotheses and only make up 1.8% of total data.\n",
    "df= df[df['Quantity'] >= 0 ]"
   ]
  },
  {
   "cell_type": "code",
   "execution_count": 17,
   "id": "eabb2dda",
   "metadata": {},
   "outputs": [
    {
     "data": {
      "text/plain": [
       "count    525462.000000\n",
       "mean          3.876109\n",
       "std          42.040021\n",
       "min      -11062.060000\n",
       "25%           1.250000\n",
       "50%           2.080000\n",
       "75%           4.130000\n",
       "max       13541.330000\n",
       "Name: UnitPrice, dtype: float64"
      ]
     },
     "execution_count": 17,
     "metadata": {},
     "output_type": "execute_result"
    }
   ],
   "source": [
    "# checking UnitPrice column for anomalies and outliers\n",
    "df['UnitPrice'].describe()"
   ]
  },
  {
   "cell_type": "code",
   "execution_count": 18,
   "id": "7904f1c7",
   "metadata": {},
   "outputs": [],
   "source": [
    "#There are two negative UnitPrices (which are irrelevant) and 580 UnitPrices of 0. These could have been potentially interesting\n",
    "# but because of the missing pattern and the very, very low percentage of data, these will be removed as well.\n",
    "df = df[df['UnitPrice'] > 0]"
   ]
  },
  {
   "cell_type": "code",
   "execution_count": 19,
   "id": "29fcca6a",
   "metadata": {},
   "outputs": [
    {
     "data": {
      "text/html": [
       "<div>\n",
       "<style scoped>\n",
       "    .dataframe tbody tr th:only-of-type {\n",
       "        vertical-align: middle;\n",
       "    }\n",
       "\n",
       "    .dataframe tbody tr th {\n",
       "        vertical-align: top;\n",
       "    }\n",
       "\n",
       "    .dataframe thead th {\n",
       "        text-align: right;\n",
       "    }\n",
       "</style>\n",
       "<table border=\"1\" class=\"dataframe\">\n",
       "  <thead>\n",
       "    <tr style=\"text-align: right;\">\n",
       "      <th></th>\n",
       "      <th>InvoiceNo</th>\n",
       "      <th>StockCode</th>\n",
       "      <th>Description</th>\n",
       "      <th>Quantity</th>\n",
       "      <th>InvoiceDate</th>\n",
       "      <th>UnitPrice</th>\n",
       "      <th>CustomerID</th>\n",
       "    </tr>\n",
       "  </thead>\n",
       "  <tbody>\n",
       "    <tr>\n",
       "      <th>45</th>\n",
       "      <td>536370</td>\n",
       "      <td>POST</td>\n",
       "      <td>POSTAGE</td>\n",
       "      <td>3</td>\n",
       "      <td>2018-11-29 08:45:00</td>\n",
       "      <td>18.00</td>\n",
       "      <td>12583</td>\n",
       "    </tr>\n",
       "    <tr>\n",
       "      <th>386</th>\n",
       "      <td>536403</td>\n",
       "      <td>POST</td>\n",
       "      <td>POSTAGE</td>\n",
       "      <td>1</td>\n",
       "      <td>2018-11-29 11:27:00</td>\n",
       "      <td>15.00</td>\n",
       "      <td>12791</td>\n",
       "    </tr>\n",
       "    <tr>\n",
       "      <th>1123</th>\n",
       "      <td>536527</td>\n",
       "      <td>POST</td>\n",
       "      <td>POSTAGE</td>\n",
       "      <td>1</td>\n",
       "      <td>2018-11-29 13:04:00</td>\n",
       "      <td>18.00</td>\n",
       "      <td>12662</td>\n",
       "    </tr>\n",
       "    <tr>\n",
       "      <th>1814</th>\n",
       "      <td>536544</td>\n",
       "      <td>DOT</td>\n",
       "      <td>DOTCOM POSTAGE</td>\n",
       "      <td>1</td>\n",
       "      <td>2018-11-29 14:32:00</td>\n",
       "      <td>569.77</td>\n",
       "      <td>NaN</td>\n",
       "    </tr>\n",
       "    <tr>\n",
       "      <th>3041</th>\n",
       "      <td>536592</td>\n",
       "      <td>DOT</td>\n",
       "      <td>DOTCOM POSTAGE</td>\n",
       "      <td>1</td>\n",
       "      <td>2018-11-29 17:06:00</td>\n",
       "      <td>607.49</td>\n",
       "      <td>NaN</td>\n",
       "    </tr>\n",
       "    <tr>\n",
       "      <th>...</th>\n",
       "      <td>...</td>\n",
       "      <td>...</td>\n",
       "      <td>...</td>\n",
       "      <td>...</td>\n",
       "      <td>...</td>\n",
       "      <td>...</td>\n",
       "      <td>...</td>\n",
       "    </tr>\n",
       "    <tr>\n",
       "      <th>541216</th>\n",
       "      <td>581494</td>\n",
       "      <td>POST</td>\n",
       "      <td>POSTAGE</td>\n",
       "      <td>2</td>\n",
       "      <td>2019-12-07 10:13:00</td>\n",
       "      <td>18.00</td>\n",
       "      <td>12518</td>\n",
       "    </tr>\n",
       "    <tr>\n",
       "      <th>541540</th>\n",
       "      <td>581498</td>\n",
       "      <td>DOT</td>\n",
       "      <td>DOTCOM POSTAGE</td>\n",
       "      <td>1</td>\n",
       "      <td>2019-12-07 10:26:00</td>\n",
       "      <td>1714.17</td>\n",
       "      <td>NaN</td>\n",
       "    </tr>\n",
       "    <tr>\n",
       "      <th>541730</th>\n",
       "      <td>581570</td>\n",
       "      <td>POST</td>\n",
       "      <td>POSTAGE</td>\n",
       "      <td>1</td>\n",
       "      <td>2019-12-07 11:59:00</td>\n",
       "      <td>18.00</td>\n",
       "      <td>12662</td>\n",
       "    </tr>\n",
       "    <tr>\n",
       "      <th>541767</th>\n",
       "      <td>581574</td>\n",
       "      <td>POST</td>\n",
       "      <td>POSTAGE</td>\n",
       "      <td>2</td>\n",
       "      <td>2019-12-07 12:09:00</td>\n",
       "      <td>18.00</td>\n",
       "      <td>12526</td>\n",
       "    </tr>\n",
       "    <tr>\n",
       "      <th>541768</th>\n",
       "      <td>581578</td>\n",
       "      <td>POST</td>\n",
       "      <td>POSTAGE</td>\n",
       "      <td>3</td>\n",
       "      <td>2019-12-07 12:16:00</td>\n",
       "      <td>18.00</td>\n",
       "      <td>12713</td>\n",
       "    </tr>\n",
       "  </tbody>\n",
       "</table>\n",
       "<p>1832 rows × 7 columns</p>\n",
       "</div>"
      ],
      "text/plain": [
       "       InvoiceNo StockCode     Description  Quantity         InvoiceDate  \\\n",
       "45        536370      POST         POSTAGE         3 2018-11-29 08:45:00   \n",
       "386       536403      POST         POSTAGE         1 2018-11-29 11:27:00   \n",
       "1123      536527      POST         POSTAGE         1 2018-11-29 13:04:00   \n",
       "1814      536544       DOT  DOTCOM POSTAGE         1 2018-11-29 14:32:00   \n",
       "3041      536592       DOT  DOTCOM POSTAGE         1 2018-11-29 17:06:00   \n",
       "...          ...       ...             ...       ...                 ...   \n",
       "541216    581494      POST         POSTAGE         2 2019-12-07 10:13:00   \n",
       "541540    581498       DOT  DOTCOM POSTAGE         1 2019-12-07 10:26:00   \n",
       "541730    581570      POST         POSTAGE         1 2019-12-07 11:59:00   \n",
       "541767    581574      POST         POSTAGE         2 2019-12-07 12:09:00   \n",
       "541768    581578      POST         POSTAGE         3 2019-12-07 12:16:00   \n",
       "\n",
       "        UnitPrice CustomerID  \n",
       "45          18.00      12583  \n",
       "386         15.00      12791  \n",
       "1123        18.00      12662  \n",
       "1814       569.77        NaN  \n",
       "3041       607.49        NaN  \n",
       "...           ...        ...  \n",
       "541216      18.00      12518  \n",
       "541540    1714.17        NaN  \n",
       "541730      18.00      12662  \n",
       "541767      18.00      12526  \n",
       "541768      18.00      12713  \n",
       "\n",
       "[1832 rows x 7 columns]"
      ]
     },
     "execution_count": 19,
     "metadata": {},
     "output_type": "execute_result"
    }
   ],
   "source": [
    "# inspecting the number of rows which contain postage references\n",
    "df[df['Description'].str.contains('POSTAGE')]"
   ]
  },
  {
   "cell_type": "code",
   "execution_count": 20,
   "id": "00bac2c8",
   "metadata": {},
   "outputs": [],
   "source": [
    "# dropping all rows which deal with postage as postage doesn't add any value to our product range analysis\n",
    "df = df.query('Description != \"POSTAGE\" and Description != \"DOTCOM POSTAGE\"')"
   ]
  },
  {
   "cell_type": "code",
   "execution_count": 21,
   "id": "754a0480",
   "metadata": {},
   "outputs": [],
   "source": [
    "# removing rows concerning Bank Charges and manually added transactions because they don't display information on products\n",
    "df = df[df['Description'] != 'Bank Charges']\n",
    "df = df[df['Description'] != 'Manual']"
   ]
  },
  {
   "cell_type": "markdown",
   "id": "53b5a8ef",
   "metadata": {},
   "source": [
    "## 2. Analysis"
   ]
  },
  {
   "cell_type": "code",
   "execution_count": 22,
   "id": "97936a3e",
   "metadata": {},
   "outputs": [],
   "source": [
    "# adding important columns for general analysis\n",
    "df['Revenue'] = df['Quantity'] * df['UnitPrice']\n",
    "df['Date'] = df['InvoiceDate'].dt.date\n",
    "df['Month'] = df['InvoiceDate'].dt.month\n",
    "df['Weekday'] = df['InvoiceDate'].dt.weekday\n",
    "df['Hour'] = df['InvoiceDate'].dt.hour"
   ]
  },
  {
   "cell_type": "code",
   "execution_count": 23,
   "id": "cc79f16c",
   "metadata": {},
   "outputs": [],
   "source": [
    "#changing column order for better readability\n",
    "df = df.iloc[:, [0,1,2,3,5,7,4,8,9,10,11,6]]"
   ]
  },
  {
   "cell_type": "code",
   "execution_count": 24,
   "id": "6d241e22",
   "metadata": {},
   "outputs": [
    {
     "data": {
      "text/html": [
       "<div>\n",
       "<style scoped>\n",
       "    .dataframe tbody tr th:only-of-type {\n",
       "        vertical-align: middle;\n",
       "    }\n",
       "\n",
       "    .dataframe tbody tr th {\n",
       "        vertical-align: top;\n",
       "    }\n",
       "\n",
       "    .dataframe thead th {\n",
       "        text-align: right;\n",
       "    }\n",
       "</style>\n",
       "<table border=\"1\" class=\"dataframe\">\n",
       "  <thead>\n",
       "    <tr style=\"text-align: right;\">\n",
       "      <th></th>\n",
       "      <th>InvoiceNo</th>\n",
       "      <th>StockCode</th>\n",
       "      <th>Description</th>\n",
       "      <th>Quantity</th>\n",
       "      <th>UnitPrice</th>\n",
       "      <th>Revenue</th>\n",
       "      <th>InvoiceDate</th>\n",
       "      <th>Date</th>\n",
       "      <th>Month</th>\n",
       "      <th>Weekday</th>\n",
       "      <th>Hour</th>\n",
       "      <th>CustomerID</th>\n",
       "    </tr>\n",
       "  </thead>\n",
       "  <tbody>\n",
       "    <tr>\n",
       "      <th>0</th>\n",
       "      <td>536365</td>\n",
       "      <td>85123A</td>\n",
       "      <td>WHITE HANGING HEART T-LIGHT HOLDER</td>\n",
       "      <td>6</td>\n",
       "      <td>2.55</td>\n",
       "      <td>15.30</td>\n",
       "      <td>2018-11-29 08:26:00</td>\n",
       "      <td>2018-11-29</td>\n",
       "      <td>11</td>\n",
       "      <td>3</td>\n",
       "      <td>8</td>\n",
       "      <td>17850</td>\n",
       "    </tr>\n",
       "    <tr>\n",
       "      <th>1</th>\n",
       "      <td>536365</td>\n",
       "      <td>71053</td>\n",
       "      <td>WHITE METAL LANTERN</td>\n",
       "      <td>6</td>\n",
       "      <td>3.39</td>\n",
       "      <td>20.34</td>\n",
       "      <td>2018-11-29 08:26:00</td>\n",
       "      <td>2018-11-29</td>\n",
       "      <td>11</td>\n",
       "      <td>3</td>\n",
       "      <td>8</td>\n",
       "      <td>17850</td>\n",
       "    </tr>\n",
       "    <tr>\n",
       "      <th>2</th>\n",
       "      <td>536365</td>\n",
       "      <td>84406B</td>\n",
       "      <td>CREAM CUPID HEARTS COAT HANGER</td>\n",
       "      <td>8</td>\n",
       "      <td>2.75</td>\n",
       "      <td>22.00</td>\n",
       "      <td>2018-11-29 08:26:00</td>\n",
       "      <td>2018-11-29</td>\n",
       "      <td>11</td>\n",
       "      <td>3</td>\n",
       "      <td>8</td>\n",
       "      <td>17850</td>\n",
       "    </tr>\n",
       "    <tr>\n",
       "      <th>3</th>\n",
       "      <td>536365</td>\n",
       "      <td>84029G</td>\n",
       "      <td>KNITTED UNION FLAG HOT WATER BOTTLE</td>\n",
       "      <td>6</td>\n",
       "      <td>3.39</td>\n",
       "      <td>20.34</td>\n",
       "      <td>2018-11-29 08:26:00</td>\n",
       "      <td>2018-11-29</td>\n",
       "      <td>11</td>\n",
       "      <td>3</td>\n",
       "      <td>8</td>\n",
       "      <td>17850</td>\n",
       "    </tr>\n",
       "    <tr>\n",
       "      <th>4</th>\n",
       "      <td>536365</td>\n",
       "      <td>84029E</td>\n",
       "      <td>RED WOOLLY HOTTIE WHITE HEART.</td>\n",
       "      <td>6</td>\n",
       "      <td>3.39</td>\n",
       "      <td>20.34</td>\n",
       "      <td>2018-11-29 08:26:00</td>\n",
       "      <td>2018-11-29</td>\n",
       "      <td>11</td>\n",
       "      <td>3</td>\n",
       "      <td>8</td>\n",
       "      <td>17850</td>\n",
       "    </tr>\n",
       "  </tbody>\n",
       "</table>\n",
       "</div>"
      ],
      "text/plain": [
       "  InvoiceNo StockCode                          Description  Quantity  \\\n",
       "0    536365    85123A   WHITE HANGING HEART T-LIGHT HOLDER         6   \n",
       "1    536365     71053                  WHITE METAL LANTERN         6   \n",
       "2    536365    84406B       CREAM CUPID HEARTS COAT HANGER         8   \n",
       "3    536365    84029G  KNITTED UNION FLAG HOT WATER BOTTLE         6   \n",
       "4    536365    84029E       RED WOOLLY HOTTIE WHITE HEART.         6   \n",
       "\n",
       "   UnitPrice  Revenue         InvoiceDate        Date  Month  Weekday  Hour  \\\n",
       "0       2.55    15.30 2018-11-29 08:26:00  2018-11-29     11        3     8   \n",
       "1       3.39    20.34 2018-11-29 08:26:00  2018-11-29     11        3     8   \n",
       "2       2.75    22.00 2018-11-29 08:26:00  2018-11-29     11        3     8   \n",
       "3       3.39    20.34 2018-11-29 08:26:00  2018-11-29     11        3     8   \n",
       "4       3.39    20.34 2018-11-29 08:26:00  2018-11-29     11        3     8   \n",
       "\n",
       "  CustomerID  \n",
       "0      17850  \n",
       "1      17850  \n",
       "2      17850  \n",
       "3      17850  \n",
       "4      17850  "
      ]
     },
     "execution_count": 24,
     "metadata": {},
     "output_type": "execute_result"
    }
   ],
   "source": [
    "# checking resulting dataframe\n",
    "df.head()"
   ]
  },
  {
   "cell_type": "markdown",
   "id": "8ae55c6d",
   "metadata": {},
   "source": [
    "### 2.1 Product and Order Analysis"
   ]
  },
  {
   "cell_type": "code",
   "execution_count": 25,
   "id": "bb58652f",
   "metadata": {},
   "outputs": [
    {
     "name": "stdout",
     "output_type": "stream",
     "text": [
      "- The total number of orders is 19781.\n",
      "- The total number of distinct products is 3917.\n"
     ]
    }
   ],
   "source": [
    "# total number of orders\n",
    "print('- The total number of orders is {}.'.format(df['InvoiceNo'].nunique()))\n",
    "# total number of products\n",
    "print('- The total number of distinct products is {}.'.format(df['StockCode'].nunique()))"
   ]
  },
  {
   "cell_type": "markdown",
   "id": "3fd66f78",
   "metadata": {},
   "source": [
    "##### 2.1.1 Quantity Analysis"
   ]
  },
  {
   "cell_type": "code",
   "execution_count": 26,
   "id": "d0598e09",
   "metadata": {},
   "outputs": [
    {
     "data": {
      "text/plain": [
       "count    522717.000000\n",
       "mean         10.639729\n",
       "std         156.567708\n",
       "min           1.000000\n",
       "25%           1.000000\n",
       "50%           4.000000\n",
       "75%          12.000000\n",
       "max       80995.000000\n",
       "Name: Quantity, dtype: float64"
      ]
     },
     "metadata": {},
     "output_type": "display_data"
    },
    {
     "name": "stdout",
     "output_type": "stream",
     "text": [
      "- What is striking is that the difference between the mean 10.64 and the median 4.0 is very large. This is due to outliers like the maximum value of 80995.0.\n"
     ]
    }
   ],
   "source": [
    "# inspecting quantity in general over all products and orders\n",
    "display(df['Quantity'].describe())\n",
    "print('- What is striking is that the difference between the mean {} and the median {} is very large. This is due to outliers like the maximum value of {}.'.format(round(df['Quantity'].describe()[1],2),df['Quantity'].describe()[5], df['Quantity'].describe()[7]))"
   ]
  },
  {
   "cell_type": "code",
   "execution_count": 27,
   "id": "53a763c3",
   "metadata": {},
   "outputs": [
    {
     "data": {
      "image/png": "[encoded data removed]",
      "text/plain": [
       "<Figure size 432x288 with 1 Axes>"
      ]
     },
     "metadata": {
      "needs_background": "light"
     },
     "output_type": "display_data"
    }
   ],
   "source": [
    "# analyzing quantities below the mean \n",
    "plt.hist(data=df ,x ='Quantity', range=(0,10))\n",
    "plt.xlabel('Quantity')\n",
    "plt.ylabel('Count')\n",
    "plt.title('Quantity distribution below the average quantity');"
   ]
  },
  {
   "cell_type": "markdown",
   "id": "c678f7d9",
   "metadata": {},
   "source": [
    "Very interesting to see that most customers only ordered one or two items of a prdocut they bought. This is true for approximately 40% of all orders!"
   ]
  },
  {
   "cell_type": "code",
   "execution_count": 28,
   "id": "f973348a",
   "metadata": {},
   "outputs": [
    {
     "name": "stdout",
     "output_type": "stream",
     "text": [
      "By the way, our online store sold a total of 5561567 items.\n"
     ]
    }
   ],
   "source": [
    "print('By the way, our online store sold a total of {} items.'.format(df['Quantity'].sum()))"
   ]
  },
  {
   "cell_type": "markdown",
   "id": "ecff73f6",
   "metadata": {},
   "source": [
    "##### 2.1.1.1 Quantity Analysis per product (StockCode)"
   ]
  },
  {
   "cell_type": "code",
   "execution_count": 29,
   "id": "65871fc3",
   "metadata": {},
   "outputs": [
    {
     "name": "stdout",
     "output_type": "stream",
     "text": [
      "- On average, each unique product was bought 1420 times.\n",
      "- 50% of products were bought less than 369.0 times and 50% more.\n",
      "- The least favorite product was only bought 1 time(s).\n",
      "- The best seller was sold 80995 times.\n",
      "- On average, each product appeared in 133 unique orders.\n",
      "- The most favorable product appeared in 2253 unique orders.\n"
     ]
    }
   ],
   "source": [
    "print('- On average, each unique product was bought {} times.'.format(round(df.groupby('StockCode')['Quantity'].sum().mean()),2))\n",
    "print('- 50% of products were bought less than {} times and 50% more.'.format(df.groupby('StockCode')['Quantity'].sum().median()))\n",
    "print('- The least favorite product was only bought {} time(s).'.format(df.groupby('StockCode')['Quantity'].sum().min()))\n",
    "print('- The best seller was sold {} times.'.format(df.groupby('StockCode')['Quantity'].sum().max()))\n",
    "print('- On average, each product appeared in {} unique orders.'.format(round(df.groupby('StockCode')['Quantity'].count().mean()),2))\n",
    "print('- The most favorable product appeared in {} unique orders.'.format(df.groupby('StockCode')['Quantity'].count().max()))"
   ]
  },
  {
   "cell_type": "markdown",
   "id": "cb3b193f",
   "metadata": {},
   "source": [
    "##### 2.1.1.2 Quantity Analysis per order"
   ]
  },
  {
   "cell_type": "code",
   "execution_count": 30,
   "id": "0b0fa6ef",
   "metadata": {},
   "outputs": [
    {
     "name": "stdout",
     "output_type": "stream",
     "text": [
      "- On average, each order consisted of 281 items.\n",
      "- 50% of orders included less than 152.0 items and 50% more.\n",
      "- The order with the lowest quantity only included 1 item(s).\n",
      "- The order with the highest quantity included 80995 items.\n",
      "- On average, each order consisted of 26 unique products.\n",
      "- The largest order in terms of number of products had 1113 products.\n"
     ]
    }
   ],
   "source": [
    "print('- On average, each order consisted of {} items.'.format(round(df.groupby('InvoiceNo')['Quantity'].sum().mean()),2))\n",
    "print('- 50% of orders included less than {} items and 50% more.'.format(df.groupby('InvoiceNo')['Quantity'].sum().median()))\n",
    "print('- The order with the lowest quantity only included {} item(s).'.format(df.groupby('InvoiceNo')['Quantity'].sum().min()))\n",
    "print('- The order with the highest quantity included {} items.'.format(df.groupby('InvoiceNo')['Quantity'].sum().max()))\n",
    "print('- On average, each order consisted of {} unique products.'.format(round(df.groupby('InvoiceNo')['Quantity'].count().mean()),2))\n",
    "print('- The largest order in terms of number of products had {} products.'.format(df.groupby('InvoiceNo')['Quantity'].count().max()))"
   ]
  },
  {
   "cell_type": "markdown",
   "id": "ebf5e867",
   "metadata": {},
   "source": [
    "Again, it is interesting to see that our online shop has such massive differences between the products and orders (and therefore also customers). In order to evaluate the profitability of each product, order and customer, we will cluster them in a later part to better understand each category's value to the company."
   ]
  },
  {
   "cell_type": "markdown",
   "id": "e59f11c7",
   "metadata": {},
   "source": [
    "##### 2.1.2 Unit Price Analysis"
   ]
  },
  {
   "cell_type": "code",
   "execution_count": 31,
   "id": "f558089a",
   "metadata": {},
   "outputs": [
    {
     "data": {
      "text/plain": [
       "count    522717.000000\n",
       "mean          3.335198\n",
       "std          24.588877\n",
       "min           0.001000\n",
       "25%           1.250000\n",
       "50%           2.080000\n",
       "75%           4.130000\n",
       "max       13541.330000\n",
       "Name: UnitPrice, dtype: float64"
      ]
     },
     "metadata": {},
     "output_type": "display_data"
    },
    {
     "name": "stdout",
     "output_type": "stream",
     "text": [
      "- The difference between mean (3.34) and median (2.08) and thus the standard deviation is much lower compared to the Quantity. But we still see outliers like the maximum of 13541.33.\n"
     ]
    }
   ],
   "source": [
    "# analyzing Unit price over all products and orders\n",
    "display(df['UnitPrice'].describe())\n",
    "print('- The difference between mean ({}) and median ({}) and thus the standard deviation is much lower compared to the Quantity. But we still see outliers like the maximum of {}.'.format(round(df['UnitPrice'].describe()[1],2),df['UnitPrice'].describe()[5], df['UnitPrice'].describe()[7])) "
   ]
  },
  {
   "cell_type": "code",
   "execution_count": 32,
   "id": "5c702a47",
   "metadata": {},
   "outputs": [
    {
     "data": {
      "image/png": "[encoded data removed]",
      "text/plain": [
       "<Figure size 432x288 with 1 Axes>"
      ]
     },
     "metadata": {
      "needs_background": "light"
     },
     "output_type": "display_data"
    }
   ],
   "source": [
    "# visualize Unit Price distribution (below average)\n",
    "plt.hist(data=df ,x ='UnitPrice', range=(0,4))\n",
    "plt.xlabel('UnitPrice')\n",
    "plt.ylabel('Count')\n",
    "plt.title('Unit Price distribution below the average Unit Price');"
   ]
  },
  {
   "cell_type": "code",
   "execution_count": 33,
   "id": "e4708be0",
   "metadata": {},
   "outputs": [
    {
     "data": {
      "image/png": "[encoded data removed]",
      "text/plain": [
       "<Figure size 864x288 with 1 Axes>"
      ]
     },
     "metadata": {
      "needs_background": "light"
     },
     "output_type": "display_data"
    },
    {
     "data": {
      "text/plain": [
       "Quantity\n",
       "1    4.880645\n",
       "2    4.289509\n",
       "3    3.388238\n",
       "4    3.663185\n",
       "Name: UnitPrice, dtype: float64"
      ]
     },
     "metadata": {},
     "output_type": "display_data"
    }
   ],
   "source": [
    "#Find out whether low quantities also go hand in hand with low unit prices\n",
    "plt.figure(figsize=(12,4))\n",
    "qu_up = df.groupby('Quantity')['UnitPrice'].mean()\n",
    "plt.plot(qu_up)\n",
    "plt.xlim(0,50)\n",
    "plt.ylim(0,5)\n",
    "plt.xlabel('Quantity')\n",
    "plt.ylabel('UnitPrice')\n",
    "plt.title('Mean Unit Price per Quantity')\n",
    "plt.show();\n",
    "display(qu_up.head(4))"
   ]
  },
  {
   "cell_type": "markdown",
   "id": "d37b4c77",
   "metadata": {},
   "source": [
    "For low quantities, the mean unit price is higher than the overall mean. This is good news as orders only consisting of low quantities and low unit prices are definetly not worth the effort. In order to see if  a minimum order value should be introduced, we will use our Revenue column."
   ]
  },
  {
   "cell_type": "markdown",
   "id": "0675049e",
   "metadata": {},
   "source": [
    "###### 2.1.3. Revenue Analysis"
   ]
  },
  {
   "cell_type": "code",
   "execution_count": 34,
   "id": "51aaec35",
   "metadata": {},
   "outputs": [
    {
     "name": "stdout",
     "output_type": "stream",
     "text": [
      "The overall generated revenue is 10279842$.\n"
     ]
    }
   ],
   "source": [
    "print('The overall generated revenue is {}$.'.format(round(df['Revenue'].sum()),0))"
   ]
  },
  {
   "cell_type": "markdown",
   "id": "7c6c59d5",
   "metadata": {},
   "source": [
    "##### 2.1.3.1 Revenue per product (StockCode)"
   ]
  },
  {
   "cell_type": "code",
   "execution_count": 35,
   "id": "fce90126",
   "metadata": {},
   "outputs": [
    {
     "name": "stdout",
     "output_type": "stream",
     "text": [
      "- On average, a revenue of 2624$ was generated per product\n",
      "- 50% of the products made a revenue of more than 680.55$ and 50% less.\n",
      "- The highest generating product made a total revenue of 174156.54$.\n",
      "- The lowest generating product only made a revenue of 0.003$.\n"
     ]
    }
   ],
   "source": [
    "print('- On average, a revenue of {}$ was generated per product'.format(round(df.groupby('StockCode')['Revenue'].sum().mean()),0))\n",
    "print('- 50% of the products made a revenue of more than {}$ and 50% less.'.format(df.groupby('StockCode')['Revenue'].sum().median()))\n",
    "print('- The highest generating product made a total revenue of {}$.'.format(df.groupby('StockCode')['Revenue'].sum().max()))\n",
    "print('- The lowest generating product only made a revenue of {}$.'.format(df.groupby('StockCode')['Revenue'].sum().min()))"
   ]
  },
  {
   "cell_type": "markdown",
   "id": "b34b5003",
   "metadata": {},
   "source": [
    "##### 2.1.3.2 Revenue per order"
   ]
  },
  {
   "cell_type": "code",
   "execution_count": 36,
   "id": "3f77d7a8",
   "metadata": {},
   "outputs": [
    {
     "name": "stdout",
     "output_type": "stream",
     "text": [
      "- On average, a revenue of 520.0$ was generated per order\n",
      "- 50% of the orders made a revenue of more than 302.33$ and 50% less.\n",
      "- The lowest revenue any order has ever made is 0.38$.\n",
      "- The highest revenue any order has ever made is 168469.6$.\n"
     ]
    }
   ],
   "source": [
    "print('- On average, a revenue of {}$ was generated per order'.format(round(df.groupby('InvoiceNo')['Revenue'].sum().mean(),0)))\n",
    "print('- 50% of the orders made a revenue of more than {}$ and 50% less.'.format(df.groupby('InvoiceNo')['Revenue'].sum().median()))\n",
    "print('- The lowest revenue any order has ever made is {}$.'.format(df.groupby('InvoiceNo')['Revenue'].sum().min()))\n",
    "print('- The highest revenue any order has ever made is {}$.'.format(df.groupby('InvoiceNo')['Revenue'].sum().max()))"
   ]
  },
  {
   "cell_type": "markdown",
   "id": "da28f081",
   "metadata": {},
   "source": [
    "Order revenues of only 0.38 USD or products which only generated 0.003 USD are not worth the effort. This is why we should think about the introduction of a minimum order value. For this we can e.g.take a look at the bottom 5 percent of orders."
   ]
  },
  {
   "cell_type": "code",
   "execution_count": 37,
   "id": "02a79e1e",
   "metadata": {},
   "outputs": [
    {
     "data": {
      "text/plain": [
       "24.9"
      ]
     },
     "execution_count": 37,
     "metadata": {},
     "output_type": "execute_result"
    }
   ],
   "source": [
    "round(df.groupby('InvoiceNo')['Revenue'].sum().quantile(0.05),1)"
   ]
  },
  {
   "cell_type": "markdown",
   "id": "aca78f96",
   "metadata": {},
   "source": [
    "A minimum order value of 25$ would be reasonable here. More on this, in the hypotheses part."
   ]
  },
  {
   "cell_type": "markdown",
   "id": "ae1f56e6",
   "metadata": {},
   "source": [
    "###### 2.1.3.3 Revenue over time"
   ]
  },
  {
   "cell_type": "code",
   "execution_count": 38,
   "id": "e6a8d26c",
   "metadata": {},
   "outputs": [
    {
     "name": "stdout",
     "output_type": "stream",
     "text": [
      "- The earliest order was placed on 2018-11-29 08:26:00.\n",
      "- The latest order was placed on 2019-12-07 12:50:00.\n",
      "- This equals a total time period of 373 days 04:24:00.\n"
     ]
    }
   ],
   "source": [
    "# identifying time period between first and last order \n",
    "print('- The earliest order was placed on {}.'.format(df['InvoiceDate'].min()))\n",
    "print('- The latest order was placed on {}.'.format(df['InvoiceDate'].max()))\n",
    "print('- This equals a total time period of {}.'.format(df['InvoiceDate'].max() - df['InvoiceDate'].min()))"
   ]
  },
  {
   "cell_type": "markdown",
   "id": "23d335e9",
   "metadata": {},
   "source": [
    "##### 2.1.3.3.1 Revenue per date"
   ]
  },
  {
   "cell_type": "code",
   "execution_count": 39,
   "id": "04397f1e",
   "metadata": {},
   "outputs": [
    {
     "data": {
      "image/png": "[encoded data removed]",
      "text/plain": [
       "<Figure size 864x288 with 1 Axes>"
      ]
     },
     "metadata": {
      "needs_background": "light"
     },
     "output_type": "display_data"
    }
   ],
   "source": [
    "# inspecting total revenue per date\n",
    "revenue_trend= df.groupby('Date')['Revenue'].sum()\n",
    "plt.figure(figsize=(12,4))\n",
    "sb.lineplot(data=revenue_trend)\n",
    "plt.title('Revenue trend from 2018-11-29 to 2019-12-07.')\n",
    "plt.show();"
   ]
  },
  {
   "cell_type": "code",
   "execution_count": 40,
   "id": "655e19d5",
   "metadata": {},
   "outputs": [
    {
     "name": "stdout",
     "output_type": "stream",
     "text": [
      "- On average, 33704$ of revenue were made per day.\n",
      "- 50% of days generated more than 28559.32$ of revenue and 50% less.\n",
      "- The maximum revenue generated on one day was 198095$.\n",
      "- The minimum revenue generated on one day was 3440$.\n"
     ]
    }
   ],
   "source": [
    "print('- On average, {}$ of revenue were made per day.'.format(round(df.groupby('Date')['Revenue'].sum().mean()),0))\n",
    "print('- 50% of days generated more than {}$ of revenue and 50% less.'.format(df.groupby('Date')['Revenue'].sum().median()))\n",
    "print('- The maximum revenue generated on one day was {}$.'.format(round(df.groupby('Date')['Revenue'].sum().max()),0))\n",
    "print('- The minimum revenue generated on one day was {}$.'.format(round(df.groupby('Date')['Revenue'].sum().min()),0))"
   ]
  },
  {
   "cell_type": "markdown",
   "id": "a67317ba",
   "metadata": {},
   "source": [
    "##### 2.1.3.3.2 Revenue per month"
   ]
  },
  {
   "cell_type": "code",
   "execution_count": 41,
   "id": "d07e126f",
   "metadata": {},
   "outputs": [
    {
     "data": {
      "image/png": "[encoded data removed]",
      "text/plain": [
       "<Figure size 864x288 with 1 Axes>"
      ]
     },
     "metadata": {
      "needs_background": "light"
     },
     "output_type": "display_data"
    }
   ],
   "source": [
    "# inspecting total revenue per month\n",
    "revenue_month= df.groupby('Month')['Revenue'].sum()\n",
    "plt.figure(figsize=(12,4))\n",
    "sb.lineplot(data=revenue_month)\n",
    "plt.title('Revenue generated per month.')\n",
    "plt.ylim(400000,1600000)\n",
    "plt.ylabel('Revenue in million $')\n",
    "plt.show();"
   ]
  },
  {
   "cell_type": "markdown",
   "id": "5c9c8126",
   "metadata": {},
   "source": [
    "We can see some seasonality here as it generally increases towards the end of the year and christmas season. To be fair, we have to account for the fact that, the data includes 373 days, so 8 days in November and December are counted twice. But even withourt these days, we can clearly see the peak. \n",
    "When clustering our products, we should definetly look out for christmas products."
   ]
  },
  {
   "cell_type": "markdown",
   "id": "5e378067",
   "metadata": {},
   "source": [
    "##### 2.1.3.3.3 Revenue per weekday"
   ]
  },
  {
   "cell_type": "code",
   "execution_count": 42,
   "id": "45ee1da7",
   "metadata": {},
   "outputs": [
    {
     "data": {
      "image/png": "[encoded data removed]",
      "text/plain": [
       "<Figure size 864x288 with 1 Axes>"
      ]
     },
     "metadata": {
      "needs_background": "light"
     },
     "output_type": "display_data"
    }
   ],
   "source": [
    "# inspecting total revenue per weekday\n",
    "revenue_weekday= df.groupby('Weekday')['Revenue'].sum()\n",
    "plt.figure(figsize=(12,4))\n",
    "sb.lineplot(data=revenue_weekday)\n",
    "plt.title('Revenue generated per weekday.')\n",
    "plt.show();"
   ]
  },
  {
   "cell_type": "markdown",
   "id": "e19aa271",
   "metadata": {},
   "source": [
    "Except Mondays, all other weekdays share a similar revenue distribution. For some reason, Sundays are not included in the statistics, which seems irrational as an online shop never really closes I believe. \n",
    "The reason might be that the data is not tracked on Sundays which is not optimal and I would advise the Online Shop to also include Sundays in order to get better customer and product insights."
   ]
  },
  {
   "cell_type": "markdown",
   "id": "283f1419",
   "metadata": {},
   "source": [
    "##### 2.1.3.3.4 Revenue per hour"
   ]
  },
  {
   "cell_type": "code",
   "execution_count": 43,
   "id": "27f11809",
   "metadata": {},
   "outputs": [
    {
     "data": {
      "image/png": "[encoded data removed]",
      "text/plain": [
       "<Figure size 864x288 with 1 Axes>"
      ]
     },
     "metadata": {
      "needs_background": "light"
     },
     "output_type": "display_data"
    }
   ],
   "source": [
    "revenue_hour= df.groupby('Hour')['Revenue'].sum()\n",
    "plt.figure(figsize=(12,4))\n",
    "sb.lineplot(data=revenue_hour)\n",
    "plt.title('Revenue generated per hour.')\n",
    "plt.show();"
   ]
  },
  {
   "cell_type": "markdown",
   "id": "3d7b1b82",
   "metadata": {},
   "source": [
    "Similar to weekdays, we can only find business hour data. There is no data displayed for any time after 8pm, which is of course possible due to chance but seems very unlikely for an online shop in the course of more than a year. Again, this data would have been insightful, by e.g. identifying products which are typically purchased late at night when other, physical stores are closed already.\n",
    "In general, most revenue is generated between 9am and 4 pm, which represent the typical business hour time span. "
   ]
  },
  {
   "cell_type": "markdown",
   "id": "82798b0d",
   "metadata": {},
   "source": [
    "##### 2.1.4 Product Clustering"
   ]
  },
  {
   "cell_type": "markdown",
   "id": "9ed9f463",
   "metadata": {},
   "source": [
    "One of our overall goals is to reduce the total prodcut offer in order to operate more efficiently and to be more profitable at the same time. As it would have been to time-intensive to look at each product individually, we will try to cluster our products in different groups based on their product description.\n",
    "\n",
    "Unfortunately, the algorithm takes up a lot of memory and needs a very long time to run certain components would take too long (e.g. additional Stemming). This is why the cells are all markdowns. Cells can be run by changing back to code."
   ]
  },
  {
   "cell_type": "code",
   "execution_count": 44,
   "id": "9e8e33b4",
   "metadata": {},
   "outputs": [],
   "source": [
    "#change description to lower case\n",
    "df['Description'] = df['Description'].str.lower()"
   ]
  },
  {
   "cell_type": "code",
   "execution_count": 45,
   "id": "6f8d33c2",
   "metadata": {},
   "outputs": [],
   "source": [
    "#define a function to preprocess\n",
    "def preprocess_text(text: str, remove_stopwords: bool) -> str:\n",
    "    \"\"\"This utility function sanitizes a string by:\n",
    "    - removing links\n",
    "    - removing special characters\n",
    "    - removing numbers\n",
    "    - removing stopwords\n",
    "    - transforming in lowercase\n",
    "    - removing excessive whitespaces\n",
    "    Args:\n",
    "        text (str): the input text you want to clean\n",
    "        remove_stopwords (bool): whether or not to remove stopwords\n",
    "    Returns:\n",
    "        str: the cleaned text\n",
    "    \"\"\"\n",
    "\n",
    "    # remove special chars and numbers\n",
    "    text = re.sub(\"[^A-Za-z]+\", \" \", text)\n",
    "    # remove stopwords\n",
    "    if remove_stopwords:\n",
    "        # 1. tokenize\n",
    "        tokens = nltk.word_tokenize(text)\n",
    "        # 2. check if stopword\n",
    "        tokens = [w for w in tokens if not w.lower() in stopwords.words(\"english\")]\n",
    "        # 3. join back together\n",
    "        text = \" \".join(tokens)\n",
    "    # return text in lower case and stripped of whitespaces\n",
    "    text = text.lower().strip()\n",
    "    return text"
   ]
  },
  {
   "cell_type": "code",
   "execution_count": 46,
   "id": "3754ddab",
   "metadata": {},
   "outputs": [],
   "source": [
    "#apply function to Description data\n",
    "df['cleaned'] = df['Description'].apply(lambda x: preprocess_text(x, remove_stopwords=True))"
   ]
  },
  {
   "cell_type": "code",
   "execution_count": 47,
   "id": "17c9fb22",
   "metadata": {},
   "outputs": [],
   "source": [
    "#initialize the vectorizer\n",
    "vectorizer = TfidfVectorizer(sublinear_tf=True, min_df=5, max_df=0.95)\n",
    "#fit_transform applies TF-IDF to clean texts - we save the array of vectors in X\n",
    "X = vectorizer.fit_transform(df['cleaned'])"
   ]
  },
  {
   "cell_type": "code",
   "execution_count": 49,
   "id": "24692eb0",
   "metadata": {},
   "outputs": [],
   "source": [
    "from sklearn.cluster import KMeans\n",
    "\n",
    "#initialize kmeans with 10 centroids\n",
    "kmeans = KMeans(n_clusters=10, random_state=42)\n",
    "#fit the model\n",
    "kmeans.fit(X)\n",
    "#store cluster labels in a variable\n",
    "clusters = kmeans.labels_"
   ]
  },
  {
   "cell_type": "code",
   "execution_count": 50,
   "id": "576ab7e0",
   "metadata": {},
   "outputs": [],
   "source": [
    "#add clusters to df\n",
    "df['cluster']= clusters"
   ]
  },
  {
   "cell_type": "code",
   "execution_count": 51,
   "id": "805aaaed",
   "metadata": {},
   "outputs": [
    {
     "name": "stdout",
     "output_type": "stream",
     "text": [
      "\n",
      "Cluster 0\n",
      "pink,box,heart\n",
      "\n",
      "Cluster 1\n",
      "bag,red,retrospot\n",
      "\n",
      "Cluster 2\n",
      "lunch,jumbo,bag\n",
      "\n",
      "Cluster 3\n",
      "scandinavian,frame,wooden\n",
      "\n",
      "Cluster 4\n",
      "spotty,party,bunting\n",
      "\n",
      "Cluster 5\n",
      "french,sign,metal\n",
      "\n",
      "Cluster 6\n",
      "regency,tins,set\n",
      "\n",
      "Cluster 7\n",
      "bakelike,alarm,clock\n",
      "\n",
      "Cluster 8\n",
      "hanging,holder,light\n",
      "\n",
      "Cluster 9\n",
      "cake,cases,pack\n"
     ]
    }
   ],
   "source": [
    "#identify top keywords to describe each cluster\n",
    "def get_top_keywords(n_terms):\n",
    "    \"\"\"This function returns the keywords for each centroid of the KMeans\"\"\"\n",
    "    df = pd.DataFrame(X.todense()).groupby(clusters).mean() # groups the TF-IDF vector by cluster\n",
    "    terms = vectorizer.get_feature_names_out() # access tf-idf terms\n",
    "    for i,r in df.iterrows():\n",
    "        print('\\nCluster {}'.format(i))\n",
    "        print(','.join([terms[t] for t in np.argsort(r)[-n_terms:]])) # for each row of the dataframe, find the n terms that have the highest tf idf score\n",
    "            \n",
    "get_top_keywords(3)"
   ]
  },
  {
   "cell_type": "code",
   "execution_count": 52,
   "id": "2eacdd2f",
   "metadata": {},
   "outputs": [],
   "source": [
    "#map clusters to appropriate labels \n",
    "cluster_map = {0: \"pink\", 1: \"bags\", 2: \"lunch\", 3:\"wood\", 4:\"party\",5:\"metal\", 6:\"tins\", 7:\"alarms\",8:\"holders\", 9:\"cakes\"}\n",
    "#apply mapping\n",
    "df['cluster'] = df['cluster'].map(cluster_map)"
   ]
  },
  {
   "cell_type": "code",
   "execution_count": 54,
   "id": "24953b0d",
   "metadata": {},
   "outputs": [
    {
     "data": {
      "text/html": [
       "<div>\n",
       "<style scoped>\n",
       "    .dataframe tbody tr th:only-of-type {\n",
       "        vertical-align: middle;\n",
       "    }\n",
       "\n",
       "    .dataframe tbody tr th {\n",
       "        vertical-align: top;\n",
       "    }\n",
       "\n",
       "    .dataframe thead th {\n",
       "        text-align: right;\n",
       "    }\n",
       "</style>\n",
       "<table border=\"1\" class=\"dataframe\">\n",
       "  <thead>\n",
       "    <tr style=\"text-align: right;\">\n",
       "      <th></th>\n",
       "      <th>InvoiceNo</th>\n",
       "      <th>StockCode</th>\n",
       "      <th>Description</th>\n",
       "      <th>Quantity</th>\n",
       "      <th>UnitPrice</th>\n",
       "      <th>Revenue</th>\n",
       "      <th>InvoiceDate</th>\n",
       "      <th>Date</th>\n",
       "      <th>Month</th>\n",
       "      <th>Weekday</th>\n",
       "      <th>Hour</th>\n",
       "      <th>CustomerID</th>\n",
       "      <th>cleaned</th>\n",
       "      <th>cluster</th>\n",
       "    </tr>\n",
       "  </thead>\n",
       "  <tbody>\n",
       "    <tr>\n",
       "      <th>0</th>\n",
       "      <td>536365</td>\n",
       "      <td>85123A</td>\n",
       "      <td>white hanging heart t-light holder</td>\n",
       "      <td>6</td>\n",
       "      <td>2.55</td>\n",
       "      <td>15.30</td>\n",
       "      <td>2018-11-29 08:26:00</td>\n",
       "      <td>2018-11-29</td>\n",
       "      <td>11</td>\n",
       "      <td>3</td>\n",
       "      <td>8</td>\n",
       "      <td>17850</td>\n",
       "      <td>white hanging heart light holder</td>\n",
       "      <td>holders</td>\n",
       "    </tr>\n",
       "    <tr>\n",
       "      <th>1</th>\n",
       "      <td>536365</td>\n",
       "      <td>71053</td>\n",
       "      <td>white metal lantern</td>\n",
       "      <td>6</td>\n",
       "      <td>3.39</td>\n",
       "      <td>20.34</td>\n",
       "      <td>2018-11-29 08:26:00</td>\n",
       "      <td>2018-11-29</td>\n",
       "      <td>11</td>\n",
       "      <td>3</td>\n",
       "      <td>8</td>\n",
       "      <td>17850</td>\n",
       "      <td>white metal lantern</td>\n",
       "      <td>metal</td>\n",
       "    </tr>\n",
       "    <tr>\n",
       "      <th>2</th>\n",
       "      <td>536365</td>\n",
       "      <td>84406B</td>\n",
       "      <td>cream cupid hearts coat hanger</td>\n",
       "      <td>8</td>\n",
       "      <td>2.75</td>\n",
       "      <td>22.00</td>\n",
       "      <td>2018-11-29 08:26:00</td>\n",
       "      <td>2018-11-29</td>\n",
       "      <td>11</td>\n",
       "      <td>3</td>\n",
       "      <td>8</td>\n",
       "      <td>17850</td>\n",
       "      <td>cream cupid hearts coat hanger</td>\n",
       "      <td>pink</td>\n",
       "    </tr>\n",
       "    <tr>\n",
       "      <th>3</th>\n",
       "      <td>536365</td>\n",
       "      <td>84029G</td>\n",
       "      <td>knitted union flag hot water bottle</td>\n",
       "      <td>6</td>\n",
       "      <td>3.39</td>\n",
       "      <td>20.34</td>\n",
       "      <td>2018-11-29 08:26:00</td>\n",
       "      <td>2018-11-29</td>\n",
       "      <td>11</td>\n",
       "      <td>3</td>\n",
       "      <td>8</td>\n",
       "      <td>17850</td>\n",
       "      <td>knitted union flag hot water bottle</td>\n",
       "      <td>pink</td>\n",
       "    </tr>\n",
       "    <tr>\n",
       "      <th>4</th>\n",
       "      <td>536365</td>\n",
       "      <td>84029E</td>\n",
       "      <td>red woolly hottie white heart.</td>\n",
       "      <td>6</td>\n",
       "      <td>3.39</td>\n",
       "      <td>20.34</td>\n",
       "      <td>2018-11-29 08:26:00</td>\n",
       "      <td>2018-11-29</td>\n",
       "      <td>11</td>\n",
       "      <td>3</td>\n",
       "      <td>8</td>\n",
       "      <td>17850</td>\n",
       "      <td>red woolly hottie white heart</td>\n",
       "      <td>pink</td>\n",
       "    </tr>\n",
       "  </tbody>\n",
       "</table>\n",
       "</div>"
      ],
      "text/plain": [
       "  InvoiceNo StockCode                          Description  Quantity  \\\n",
       "0    536365    85123A   white hanging heart t-light holder         6   \n",
       "1    536365     71053                  white metal lantern         6   \n",
       "2    536365    84406B       cream cupid hearts coat hanger         8   \n",
       "3    536365    84029G  knitted union flag hot water bottle         6   \n",
       "4    536365    84029E       red woolly hottie white heart.         6   \n",
       "\n",
       "   UnitPrice  Revenue         InvoiceDate        Date  Month  Weekday  Hour  \\\n",
       "0       2.55    15.30 2018-11-29 08:26:00  2018-11-29     11        3     8   \n",
       "1       3.39    20.34 2018-11-29 08:26:00  2018-11-29     11        3     8   \n",
       "2       2.75    22.00 2018-11-29 08:26:00  2018-11-29     11        3     8   \n",
       "3       3.39    20.34 2018-11-29 08:26:00  2018-11-29     11        3     8   \n",
       "4       3.39    20.34 2018-11-29 08:26:00  2018-11-29     11        3     8   \n",
       "\n",
       "  CustomerID                              cleaned  cluster  \n",
       "0      17850     white hanging heart light holder  holders  \n",
       "1      17850                  white metal lantern    metal  \n",
       "2      17850       cream cupid hearts coat hanger     pink  \n",
       "3      17850  knitted union flag hot water bottle     pink  \n",
       "4      17850        red woolly hottie white heart     pink  "
      ]
     },
     "execution_count": 54,
     "metadata": {},
     "output_type": "execute_result"
    }
   ],
   "source": [
    "df.head()"
   ]
  },
  {
   "cell_type": "code",
   "execution_count": 65,
   "id": "51a0a96b",
   "metadata": {},
   "outputs": [
    {
     "data": {
      "text/plain": [
       "cluster\n",
       "party      37.289673\n",
       "holders    30.399315\n",
       "alarms     24.543995\n",
       "bags       22.158206\n",
       "lunch      21.668687\n",
       "tins       20.994244\n",
       "pink       18.364652\n",
       "wood       17.995609\n",
       "metal      16.136277\n",
       "cakes      15.510918\n",
       "Name: Revenue, dtype: float64"
      ]
     },
     "execution_count": 65,
     "metadata": {},
     "output_type": "execute_result"
    }
   ],
   "source": [
    "# calculate revenue_per_cluster\n",
    "revenue_per_cluster = df.groupby('cluster')['Revenue'].mean()\n",
    "revenue_per_cluster.sort_values(ascending=False)"
   ]
  },
  {
   "cell_type": "markdown",
   "id": "7d66b303",
   "metadata": {},
   "source": [
    "### 2.2 Customer Analysis"
   ]
  },
  {
   "cell_type": "markdown",
   "id": "5a3cb512",
   "metadata": {},
   "source": [
    "#### 2.2.1 Customer Overview"
   ]
  },
  {
   "cell_type": "code",
   "execution_count": 66,
   "id": "21aba11c",
   "metadata": {},
   "outputs": [],
   "source": [
    "# copy existing data frame for customer analysis\n",
    "customers = df.copy()\n",
    "# delete null values as it does not make sense to cluster null values\n",
    "customers.dropna();"
   ]
  },
  {
   "cell_type": "code",
   "execution_count": 67,
   "id": "f4324de0",
   "metadata": {},
   "outputs": [
    {
     "name": "stdout",
     "output_type": "stream",
     "text": [
      "- In total, there are 4334 unique customers.\n",
      "- The most active user ordered 541 times.\n",
      "- On average, each user ordered 20 times.\n",
      "- On average, each user generated 2018$ of revenue.\n"
     ]
    }
   ],
   "source": [
    "print('- In total, there are {} unique customers.'.format(customers['CustomerID'].nunique()))\n",
    "print('- The most active user ordered {} times.'.format(customers.groupby('InvoiceNo')['CustomerID'].count().max()))\n",
    "print('- On average, each user ordered {} times.'.format(round(customers.groupby('InvoiceNo')['CustomerID'].count().mean()),0))\n",
    "print('- On average, each user generated {}$ of revenue.'.format(round(customers.groupby('CustomerID')['Revenue'].sum().mean()),0))\n"
   ]
  },
  {
   "cell_type": "markdown",
   "id": "851b41d2",
   "metadata": {},
   "source": [
    "#### 2.2 Customer Clustering based on RFM"
   ]
  },
  {
   "cell_type": "code",
   "execution_count": 68,
   "id": "842cb825",
   "metadata": {},
   "outputs": [],
   "source": [
    "# copy existing data frame for customer analysis\n",
    "customers = df.copy()\n",
    "# delete null values\n",
    "customers.dropna();"
   ]
  },
  {
   "cell_type": "markdown",
   "id": "941a2762",
   "metadata": {},
   "source": [
    "RFM overview:\n",
    "\n",
    "- Recency = Number of days since the last purchase\n",
    "- Frequency = Number of transactions made over a given period\n",
    "- Monetary = Amount spent over a given period of time"
   ]
  },
  {
   "cell_type": "code",
   "execution_count": 69,
   "id": "adda41f3",
   "metadata": {},
   "outputs": [
    {
     "name": "stdout",
     "output_type": "stream",
     "text": [
      "2019-12-08 12:50:00\n"
     ]
    }
   ],
   "source": [
    "# create a snapshot date to compare recency ( we will use 1 day after the last purchase here)\n",
    "snapshot_date = customers['InvoiceDate'].max() + timedelta(days=1)\n",
    "print(snapshot_date)"
   ]
  },
  {
   "cell_type": "code",
   "execution_count": 70,
   "id": "65e89144",
   "metadata": {},
   "outputs": [],
   "source": [
    "# Grouping by CustomerID\n",
    "rfm = customers.groupby(['CustomerID']).agg({\n",
    "        'InvoiceDate': lambda x: (snapshot_date - x.max()).days,\n",
    "        'InvoiceNo': 'count',\n",
    "        'Revenue': 'sum'})\n",
    "\n",
    "# rename the columns\n",
    "rfm.rename(columns={'InvoiceDate': 'Recency',\n",
    "                         'InvoiceNo': 'Frequency',\n",
    "                         'Revenue': 'Monetary'}, inplace=True)"
   ]
  },
  {
   "cell_type": "code",
   "execution_count": 71,
   "id": "c7e55962",
   "metadata": {},
   "outputs": [
    {
     "data": {
      "image/png": "[encoded data removed]",
      "text/plain": [
       "<Figure size 864x720 with 3 Axes>"
      ]
     },
     "metadata": {
      "needs_background": "light"
     },
     "output_type": "display_data"
    }
   ],
   "source": [
    "# Plot RFM distributions\n",
    "plt.figure(figsize=(12,10))\n",
    "# Plot distribution of R\n",
    "plt.subplot(3, 1, 1); sb.histplot(rfm['Recency'])\n",
    "# Plot distribution of F\n",
    "plt.subplot(3, 1, 2); sb.histplot(rfm['Frequency'])\n",
    "# Plot distribution of M\n",
    "plt.subplot(3, 1, 3); sb.histplot(rfm['Monetary'])\n",
    "# Show the plot\n",
    "plt.show();"
   ]
  },
  {
   "cell_type": "markdown",
   "id": "e7d14212",
   "metadata": {},
   "source": [
    "We can clearly see that our data is highly skewed!"
   ]
  },
  {
   "cell_type": "code",
   "execution_count": 72,
   "id": "88400d79",
   "metadata": {},
   "outputs": [],
   "source": [
    "# calculate recency groups\n",
    "\n",
    "# assign labels (remember that the lower the number the better)\n",
    "recency_labels = range(4,0,-1)\n",
    "# use qcut to split into percentiles\n",
    "recency_groups = pd.qcut(rfm['Recency'], q=4, labels=recency_labels)\n",
    "# create a column R\n",
    "rfm = rfm.assign(R = recency_groups.values)"
   ]
  },
  {
   "cell_type": "code",
   "execution_count": 73,
   "id": "b20e27ae",
   "metadata": {},
   "outputs": [],
   "source": [
    "# calculate frequency groups\n",
    "\n",
    "# assign labels\n",
    "frequency_labels = range(1,5)\n",
    "# use qcut to split into percentiles\n",
    "frequency_groups = pd.qcut(rfm['Frequency'], q=4, labels=frequency_labels)\n",
    "# create a column F\n",
    "rfm = rfm.assign(F = frequency_groups.values)"
   ]
  },
  {
   "cell_type": "code",
   "execution_count": 74,
   "id": "afee4a24",
   "metadata": {},
   "outputs": [],
   "source": [
    "# calculate monetary groups\n",
    "\n",
    "# assign labels\n",
    "monetary_labels = range(1,5)\n",
    "# use qcut to split into percentiles\n",
    "monetary_groups = pd.qcut(rfm['Monetary'], q=4, labels=monetary_labels)\n",
    "# create a column F\n",
    "rfm = rfm.assign(M = monetary_groups.values)"
   ]
  },
  {
   "cell_type": "code",
   "execution_count": 75,
   "id": "c2d61138",
   "metadata": {},
   "outputs": [],
   "source": [
    "# assing overall RFM score\n",
    "rfm['RFM_score'] = rfm[['R','F','M']].sum(axis=1)\n",
    "# change data type to categorical\n",
    "rfm['RFM_score'] = rfm['RFM_score'].astype('category')"
   ]
  },
  {
   "cell_type": "code",
   "execution_count": 76,
   "id": "3f3dfb41",
   "metadata": {
    "scrolled": true
   },
   "outputs": [],
   "source": [
    "# assign action labels to rfm scores\n",
    "def action_level(df):\n",
    "    if df['RFM_score'] >= 10:\n",
    "        return 'Key'\n",
    "    elif ((df['RFM_score'] >= 8) and (df['RFM_score'] < 10)):\n",
    "        return 'Loyal'\n",
    "    elif ((df['RFM_score'] >= 6) and (df['RFM_score'] < 8)):\n",
    "        return 'Last chance'\n",
    "    else:\n",
    "        return 'Unimportant'"
   ]
  },
  {
   "cell_type": "code",
   "execution_count": 77,
   "id": "ebb95f88",
   "metadata": {},
   "outputs": [
    {
     "data": {
      "text/html": [
       "<div>\n",
       "<style scoped>\n",
       "    .dataframe tbody tr th:only-of-type {\n",
       "        vertical-align: middle;\n",
       "    }\n",
       "\n",
       "    .dataframe tbody tr th {\n",
       "        vertical-align: top;\n",
       "    }\n",
       "\n",
       "    .dataframe thead th {\n",
       "        text-align: right;\n",
       "    }\n",
       "</style>\n",
       "<table border=\"1\" class=\"dataframe\">\n",
       "  <thead>\n",
       "    <tr style=\"text-align: right;\">\n",
       "      <th></th>\n",
       "      <th>Recency</th>\n",
       "      <th>Frequency</th>\n",
       "      <th>Monetary</th>\n",
       "      <th>R</th>\n",
       "      <th>F</th>\n",
       "      <th>M</th>\n",
       "      <th>RFM_score</th>\n",
       "      <th>RFM_level</th>\n",
       "    </tr>\n",
       "    <tr>\n",
       "      <th>CustomerID</th>\n",
       "      <th></th>\n",
       "      <th></th>\n",
       "      <th></th>\n",
       "      <th></th>\n",
       "      <th></th>\n",
       "      <th></th>\n",
       "      <th></th>\n",
       "      <th></th>\n",
       "    </tr>\n",
       "  </thead>\n",
       "  <tbody>\n",
       "    <tr>\n",
       "      <th>12346</th>\n",
       "      <td>326</td>\n",
       "      <td>1</td>\n",
       "      <td>77183.60</td>\n",
       "      <td>1</td>\n",
       "      <td>1</td>\n",
       "      <td>4</td>\n",
       "      <td>6</td>\n",
       "      <td>Last chance</td>\n",
       "    </tr>\n",
       "    <tr>\n",
       "      <th>12347</th>\n",
       "      <td>2</td>\n",
       "      <td>182</td>\n",
       "      <td>4310.00</td>\n",
       "      <td>4</td>\n",
       "      <td>4</td>\n",
       "      <td>4</td>\n",
       "      <td>12</td>\n",
       "      <td>Key</td>\n",
       "    </tr>\n",
       "    <tr>\n",
       "      <th>12348</th>\n",
       "      <td>75</td>\n",
       "      <td>27</td>\n",
       "      <td>1437.24</td>\n",
       "      <td>2</td>\n",
       "      <td>2</td>\n",
       "      <td>3</td>\n",
       "      <td>7</td>\n",
       "      <td>Last chance</td>\n",
       "    </tr>\n",
       "    <tr>\n",
       "      <th>12349</th>\n",
       "      <td>19</td>\n",
       "      <td>72</td>\n",
       "      <td>1457.55</td>\n",
       "      <td>3</td>\n",
       "      <td>3</td>\n",
       "      <td>3</td>\n",
       "      <td>9</td>\n",
       "      <td>Loyal</td>\n",
       "    </tr>\n",
       "    <tr>\n",
       "      <th>12350</th>\n",
       "      <td>310</td>\n",
       "      <td>16</td>\n",
       "      <td>294.40</td>\n",
       "      <td>1</td>\n",
       "      <td>1</td>\n",
       "      <td>1</td>\n",
       "      <td>3</td>\n",
       "      <td>Unimportant</td>\n",
       "    </tr>\n",
       "  </tbody>\n",
       "</table>\n",
       "</div>"
      ],
      "text/plain": [
       "            Recency  Frequency  Monetary  R  F  M RFM_score    RFM_level\n",
       "CustomerID                                                              \n",
       "12346           326          1  77183.60  1  1  4         6  Last chance\n",
       "12347             2        182   4310.00  4  4  4        12          Key\n",
       "12348            75         27   1437.24  2  2  3         7  Last chance\n",
       "12349            19         72   1457.55  3  3  3         9        Loyal\n",
       "12350           310         16    294.40  1  1  1         3  Unimportant"
      ]
     },
     "execution_count": 77,
     "metadata": {},
     "output_type": "execute_result"
    }
   ],
   "source": [
    "# apply to our dataframe\n",
    "rfm['RFM_level'] = rfm.apply(action_level, axis=1)\n",
    "rfm.head()"
   ]
  },
  {
   "cell_type": "code",
   "execution_count": 78,
   "id": "b3b7dd68",
   "metadata": {},
   "outputs": [
    {
     "data": {
      "text/html": [
       "<div>\n",
       "<style scoped>\n",
       "    .dataframe tbody tr th:only-of-type {\n",
       "        vertical-align: middle;\n",
       "    }\n",
       "\n",
       "    .dataframe tbody tr th {\n",
       "        vertical-align: top;\n",
       "    }\n",
       "\n",
       "    .dataframe thead tr th {\n",
       "        text-align: left;\n",
       "    }\n",
       "\n",
       "    .dataframe thead tr:last-of-type th {\n",
       "        text-align: right;\n",
       "    }\n",
       "</style>\n",
       "<table border=\"1\" class=\"dataframe\">\n",
       "  <thead>\n",
       "    <tr>\n",
       "      <th></th>\n",
       "      <th>Recency</th>\n",
       "      <th>Frequency</th>\n",
       "      <th colspan=\"2\" halign=\"left\">Monetary</th>\n",
       "    </tr>\n",
       "    <tr>\n",
       "      <th></th>\n",
       "      <th>mean</th>\n",
       "      <th>mean</th>\n",
       "      <th>mean</th>\n",
       "      <th>count</th>\n",
       "    </tr>\n",
       "    <tr>\n",
       "      <th>RFM_level</th>\n",
       "      <th></th>\n",
       "      <th></th>\n",
       "      <th></th>\n",
       "      <th></th>\n",
       "    </tr>\n",
       "  </thead>\n",
       "  <tbody>\n",
       "    <tr>\n",
       "      <th>Key</th>\n",
       "      <td>20.054936</td>\n",
       "      <td>225.876592</td>\n",
       "      <td>5178.887882</td>\n",
       "      <td>1256</td>\n",
       "    </tr>\n",
       "    <tr>\n",
       "      <th>Last chance</th>\n",
       "      <td>88.383025</td>\n",
       "      <td>33.078346</td>\n",
       "      <td>781.682601</td>\n",
       "      <td>919</td>\n",
       "    </tr>\n",
       "    <tr>\n",
       "      <th>Loyal</th>\n",
       "      <td>55.089552</td>\n",
       "      <td>66.405281</td>\n",
       "      <td>1356.299497</td>\n",
       "      <td>871</td>\n",
       "    </tr>\n",
       "    <tr>\n",
       "      <th>Unimportant</th>\n",
       "      <td>192.064441</td>\n",
       "      <td>15.020963</td>\n",
       "      <td>263.608145</td>\n",
       "      <td>1288</td>\n",
       "    </tr>\n",
       "  </tbody>\n",
       "</table>\n",
       "</div>"
      ],
      "text/plain": [
       "                Recency   Frequency     Monetary      \n",
       "                   mean        mean         mean count\n",
       "RFM_level                                             \n",
       "Key           20.054936  225.876592  5178.887882  1256\n",
       "Last chance   88.383025   33.078346   781.682601   919\n",
       "Loyal         55.089552   66.405281  1356.299497   871\n",
       "Unimportant  192.064441   15.020963   263.608145  1288"
      ]
     },
     "metadata": {},
     "output_type": "display_data"
    }
   ],
   "source": [
    "# groupby RFM-level\n",
    "rfm_overview = rfm.groupby(['RFM_level']).agg({'Recency':'mean', 'Frequency':'mean', 'Monetary':['mean','count']})\n",
    "display(rfm_overview)"
   ]
  },
  {
   "cell_type": "markdown",
   "id": "2ade3789",
   "metadata": {},
   "source": [
    "Very interesting customer insights! We can see that the largest group of customers belongs to the 'worst' customer group, which is generally a bad sign. Luckily we also have many key customers and also a fair amount of 'loyal' and 'last chance' customers.\n",
    "\n",
    "In order to increase efficiency and meet our pre-defined goals, we should differentiate between the different groups with respect to which action to take:\n",
    "\n",
    "1. Key Customers: Our main focus as they contribute large parts of overall revenue and profit. We should provide them with some premium offers and information in order to ensure a long-lasting relationship.\n",
    "2. Loyal customers: We should invest some resources to try to push them to become a key customer. Giving them discounts, including them in newsletters to get all information they need to finally increase their RFM metrics.\n",
    "3. Last chance customers: It might be the very last chance in order to keep these customers. 88 days on average after their last purchase, it is difficult to finally persuade them to be more active as they haven't been so far. We should invest a limited amount of resources in order to find out more about the reasons they have such bad metrics.\n",
    "4. Unimportant customers : In order to meet the overall goal of focusing only on the most promising products and customers, we have to be honest and admit that this customer group does not add value at all and is irrelevant for further planning. Additional resources would just be a waste of money."
   ]
  },
  {
   "cell_type": "markdown",
   "id": "0ee55a8c",
   "metadata": {},
   "source": [
    "#### 2.3 Macro Data Analysis"
   ]
  },
  {
   "cell_type": "markdown",
   "id": "96622b63",
   "metadata": {},
   "source": [
    "Most of our data was collected at the end of 2018 and in the year of 2019. The next stept would be to compare it to previous years and then later put the numbers into the context of the overall macro situation in the UK.  "
   ]
  },
  {
   "cell_type": "code",
   "execution_count": 79,
   "id": "b9fc4ef5",
   "metadata": {},
   "outputs": [
    {
     "data": {
      "text/html": [
       "<div>\n",
       "<style scoped>\n",
       "    .dataframe tbody tr th:only-of-type {\n",
       "        vertical-align: middle;\n",
       "    }\n",
       "\n",
       "    .dataframe tbody tr th {\n",
       "        vertical-align: top;\n",
       "    }\n",
       "\n",
       "    .dataframe thead th {\n",
       "        text-align: right;\n",
       "    }\n",
       "</style>\n",
       "<table border=\"1\" class=\"dataframe\">\n",
       "  <thead>\n",
       "    <tr style=\"text-align: right;\">\n",
       "      <th></th>\n",
       "      <th>InvoiceNo</th>\n",
       "      <th>StockCode</th>\n",
       "      <th>Description</th>\n",
       "      <th>Quantity</th>\n",
       "      <th>InvoiceDate</th>\n",
       "      <th>UnitPrice</th>\n",
       "      <th>CustomerID</th>\n",
       "      <th>Country</th>\n",
       "    </tr>\n",
       "  </thead>\n",
       "  <tbody>\n",
       "    <tr>\n",
       "      <th>0</th>\n",
       "      <td>536365</td>\n",
       "      <td>85123A</td>\n",
       "      <td>WHITE HANGING HEART T-LIGHT HOLDER</td>\n",
       "      <td>6</td>\n",
       "      <td>12/1/2010 8:26</td>\n",
       "      <td>2.55</td>\n",
       "      <td>17850.0</td>\n",
       "      <td>United Kingdom</td>\n",
       "    </tr>\n",
       "    <tr>\n",
       "      <th>1</th>\n",
       "      <td>536365</td>\n",
       "      <td>71053</td>\n",
       "      <td>WHITE METAL LANTERN</td>\n",
       "      <td>6</td>\n",
       "      <td>12/1/2010 8:26</td>\n",
       "      <td>3.39</td>\n",
       "      <td>17850.0</td>\n",
       "      <td>United Kingdom</td>\n",
       "    </tr>\n",
       "    <tr>\n",
       "      <th>2</th>\n",
       "      <td>536365</td>\n",
       "      <td>84406B</td>\n",
       "      <td>CREAM CUPID HEARTS COAT HANGER</td>\n",
       "      <td>8</td>\n",
       "      <td>12/1/2010 8:26</td>\n",
       "      <td>2.75</td>\n",
       "      <td>17850.0</td>\n",
       "      <td>United Kingdom</td>\n",
       "    </tr>\n",
       "    <tr>\n",
       "      <th>3</th>\n",
       "      <td>536365</td>\n",
       "      <td>84029G</td>\n",
       "      <td>KNITTED UNION FLAG HOT WATER BOTTLE</td>\n",
       "      <td>6</td>\n",
       "      <td>12/1/2010 8:26</td>\n",
       "      <td>3.39</td>\n",
       "      <td>17850.0</td>\n",
       "      <td>United Kingdom</td>\n",
       "    </tr>\n",
       "    <tr>\n",
       "      <th>4</th>\n",
       "      <td>536365</td>\n",
       "      <td>84029E</td>\n",
       "      <td>RED WOOLLY HOTTIE WHITE HEART.</td>\n",
       "      <td>6</td>\n",
       "      <td>12/1/2010 8:26</td>\n",
       "      <td>3.39</td>\n",
       "      <td>17850.0</td>\n",
       "      <td>United Kingdom</td>\n",
       "    </tr>\n",
       "  </tbody>\n",
       "</table>\n",
       "</div>"
      ],
      "text/plain": [
       "  InvoiceNo StockCode                          Description  Quantity  \\\n",
       "0    536365    85123A   WHITE HANGING HEART T-LIGHT HOLDER         6   \n",
       "1    536365     71053                  WHITE METAL LANTERN         6   \n",
       "2    536365    84406B       CREAM CUPID HEARTS COAT HANGER         8   \n",
       "3    536365    84029G  KNITTED UNION FLAG HOT WATER BOTTLE         6   \n",
       "4    536365    84029E       RED WOOLLY HOTTIE WHITE HEART.         6   \n",
       "\n",
       "      InvoiceDate  UnitPrice  CustomerID         Country  \n",
       "0  12/1/2010 8:26       2.55     17850.0  United Kingdom  \n",
       "1  12/1/2010 8:26       3.39     17850.0  United Kingdom  \n",
       "2  12/1/2010 8:26       2.75     17850.0  United Kingdom  \n",
       "3  12/1/2010 8:26       3.39     17850.0  United Kingdom  \n",
       "4  12/1/2010 8:26       3.39     17850.0  United Kingdom  "
      ]
     },
     "execution_count": 79,
     "metadata": {},
     "output_type": "execute_result"
    }
   ],
   "source": [
    "# loading a comparable dataset from 2010 and 2011 found on Kaggle\n",
    "compare_df = pd.read_csv('compare_dataset.csv', encoding= 'unicode_escape')\n",
    "compare_df.head()"
   ]
  },
  {
   "cell_type": "markdown",
   "id": "d3b885cd",
   "metadata": {},
   "source": [
    "##### 2.3.1 Short data cleaning and preprocessing on new dataset"
   ]
  },
  {
   "cell_type": "code",
   "execution_count": 80,
   "id": "22ab3872",
   "metadata": {},
   "outputs": [],
   "source": [
    "# loading a comparable dataset from 2010 and 2011 found on Kaggle\n",
    "compare_df = pd.read_csv('compare_dataset.csv', encoding= 'unicode_escape')"
   ]
  },
  {
   "cell_type": "code",
   "execution_count": 81,
   "id": "ef7dde78",
   "metadata": {},
   "outputs": [],
   "source": [
    "# change data types\n",
    "compare_df['InvoiceDate'] =pd.to_datetime(compare_df['InvoiceDate'])\n",
    "compare_df['CustomerID'] = compare_df['CustomerID'].astype('object')\n",
    "# drop duplicates\n",
    "compare_df.drop_duplicates(keep='first', inplace=True)\n",
    "# only include customers from the United Kingdom in order to ensure comparability\n",
    "compare_df = compare_df[compare_df['Country'] == 'United Kingdom']\n",
    "# perform cleaning steps as in df\n",
    "compare_df = compare_df.query('Description != \"POSTAGE\" and Description != \"DOTCOM POSTAGE\"')\n",
    "compare_df = compare_df[compare_df['Description'] != 'Bank Charges']\n",
    "compare_df = compare_df[compare_df['Description'] != 'Manual']\n",
    "compare_df = compare_df[compare_df['UnitPrice'] > 0]\n",
    "compare_df= compare_df[compare_df['Quantity'] >= 0 ]\n",
    "# add columns as in df\n",
    "compare_df['Revenue'] = compare_df['Quantity'] * compare_df['UnitPrice']\n",
    "compare_df['Date'] = compare_df['InvoiceDate'].dt.date\n",
    "compare_df['Month'] = compare_df['InvoiceDate'].dt.month\n",
    "compare_df['Weekday'] = compare_df['InvoiceDate'].dt.weekday\n",
    "compare_df['Hour'] = compare_df['InvoiceDate'].dt.hour"
   ]
  },
  {
   "cell_type": "code",
   "execution_count": 82,
   "id": "57bb9014",
   "metadata": {},
   "outputs": [
    {
     "name": "stdout",
     "output_type": "stream",
     "text": [
      "373 days 04:24:00 373 days 04:23:00\n"
     ]
    }
   ],
   "source": [
    "# check if compare_df includes similar number of days\n",
    "time_period_2018_2019 = df['InvoiceDate'].max() - df['InvoiceDate'].min()\n",
    "time_period_2010_2011 = compare_df['InvoiceDate'].max() - compare_df['InvoiceDate'].min()\n",
    "print(time_period_2018_2019, time_period_2010_2011)"
   ]
  },
  {
   "cell_type": "markdown",
   "id": "001821e8",
   "metadata": {},
   "source": [
    "##### 2.3.2 Apply RFM segmentation to new dataset"
   ]
  },
  {
   "cell_type": "code",
   "execution_count": 83,
   "id": "e4c37291",
   "metadata": {
    "scrolled": true
   },
   "outputs": [],
   "source": [
    "# drop missing values\n",
    "compare_df.dropna();"
   ]
  },
  {
   "cell_type": "code",
   "execution_count": 84,
   "id": "132525b8",
   "metadata": {},
   "outputs": [
    {
     "name": "stdout",
     "output_type": "stream",
     "text": [
      "2011-12-10 12:49:00\n"
     ]
    }
   ],
   "source": [
    "# create a snapshot date to compare recency ( we will use 1 day after the last purchase here)\n",
    "snapshot_date_compare = compare_df['InvoiceDate'].max() + timedelta(days=1)\n",
    "print(snapshot_date_compare)"
   ]
  },
  {
   "cell_type": "code",
   "execution_count": 85,
   "id": "1af15d78",
   "metadata": {},
   "outputs": [],
   "source": [
    "# Grouping by CustomerID\n",
    "compare_rfm = compare_df.groupby(['CustomerID']).agg({\n",
    "        'InvoiceDate': lambda x: (snapshot_date_compare - x.max()).days,\n",
    "        'InvoiceNo': 'count',\n",
    "        'Revenue': 'sum'})\n",
    "\n",
    "# rename the columns\n",
    "compare_rfm.rename(columns={'InvoiceDate': 'Recency',\n",
    "                         'InvoiceNo': 'Frequency',\n",
    "                         'Revenue': 'Monetary'}, inplace=True)"
   ]
  },
  {
   "cell_type": "code",
   "execution_count": 86,
   "id": "25296db1",
   "metadata": {},
   "outputs": [],
   "source": [
    "# calculate recency groups\n",
    "\n",
    "# assign labels (remember that the lower the number the better)\n",
    "recency_labels = range(4,0,-1)\n",
    "# use qcut to split into percentiles\n",
    "recency_groups = pd.qcut(compare_rfm['Recency'], q=4, labels=recency_labels)\n",
    "# create a column R\n",
    "compare_rfm = compare_rfm.assign(R = recency_groups.values)"
   ]
  },
  {
   "cell_type": "code",
   "execution_count": 87,
   "id": "4e1d4bef",
   "metadata": {},
   "outputs": [],
   "source": [
    "# calculate frequency groups\n",
    "\n",
    "# assign labels\n",
    "frequency_labels = range(1,5)\n",
    "# use qcut to split into percentiles\n",
    "frequency_groups = pd.qcut(compare_rfm['Frequency'], q=4, labels=frequency_labels)\n",
    "# create a column F\n",
    "compare_rfm = compare_rfm.assign(F = frequency_groups.values)"
   ]
  },
  {
   "cell_type": "code",
   "execution_count": 88,
   "id": "cbfa4af2",
   "metadata": {},
   "outputs": [],
   "source": [
    "# calculate monetary groups\n",
    "\n",
    "# assign labels\n",
    "monetary_labels = range(1,5)\n",
    "# use qcut to split into percentiles\n",
    "monetary_groups = pd.qcut(compare_rfm['Monetary'], q=4, labels=monetary_labels)\n",
    "# create a column F\n",
    "compare_rfm = compare_rfm.assign(M = monetary_groups.values)"
   ]
  },
  {
   "cell_type": "code",
   "execution_count": 89,
   "id": "65b1a739",
   "metadata": {},
   "outputs": [],
   "source": [
    "# assing overall RFM score\n",
    "compare_rfm['RFM_score'] = compare_rfm[['R','F','M']].sum(axis=1)\n",
    "# change data type to categorical\n",
    "compare_rfm['RFM_score'] = compare_rfm['RFM_score'].astype('category')"
   ]
  },
  {
   "cell_type": "code",
   "execution_count": 90,
   "id": "6ca66857",
   "metadata": {},
   "outputs": [],
   "source": [
    "# assign action labels to rfm scores\n",
    "def action_level(df):\n",
    "    if df['RFM_score'] >= 10:\n",
    "        return 'Key'\n",
    "    elif ((df['RFM_score'] >= 8) and (df['RFM_score'] < 10)):\n",
    "        return 'Loyal'\n",
    "    elif ((df['RFM_score'] >= 6) and (df['RFM_score'] < 8)):\n",
    "        return 'Last chance'\n",
    "    else:\n",
    "        return 'Unimportant'"
   ]
  },
  {
   "cell_type": "code",
   "execution_count": 91,
   "id": "5e7ae59f",
   "metadata": {},
   "outputs": [
    {
     "data": {
      "text/html": [
       "<div>\n",
       "<style scoped>\n",
       "    .dataframe tbody tr th:only-of-type {\n",
       "        vertical-align: middle;\n",
       "    }\n",
       "\n",
       "    .dataframe tbody tr th {\n",
       "        vertical-align: top;\n",
       "    }\n",
       "\n",
       "    .dataframe thead th {\n",
       "        text-align: right;\n",
       "    }\n",
       "</style>\n",
       "<table border=\"1\" class=\"dataframe\">\n",
       "  <thead>\n",
       "    <tr style=\"text-align: right;\">\n",
       "      <th></th>\n",
       "      <th>Recency</th>\n",
       "      <th>Frequency</th>\n",
       "      <th>Monetary</th>\n",
       "      <th>R</th>\n",
       "      <th>F</th>\n",
       "      <th>M</th>\n",
       "      <th>RFM_score</th>\n",
       "      <th>RFM_level</th>\n",
       "    </tr>\n",
       "    <tr>\n",
       "      <th>CustomerID</th>\n",
       "      <th></th>\n",
       "      <th></th>\n",
       "      <th></th>\n",
       "      <th></th>\n",
       "      <th></th>\n",
       "      <th></th>\n",
       "      <th></th>\n",
       "      <th></th>\n",
       "    </tr>\n",
       "  </thead>\n",
       "  <tbody>\n",
       "    <tr>\n",
       "      <th>12346.0</th>\n",
       "      <td>326</td>\n",
       "      <td>1</td>\n",
       "      <td>77183.60</td>\n",
       "      <td>1</td>\n",
       "      <td>1</td>\n",
       "      <td>4</td>\n",
       "      <td>6</td>\n",
       "      <td>Last chance</td>\n",
       "    </tr>\n",
       "    <tr>\n",
       "      <th>12747.0</th>\n",
       "      <td>2</td>\n",
       "      <td>103</td>\n",
       "      <td>4196.01</td>\n",
       "      <td>4</td>\n",
       "      <td>4</td>\n",
       "      <td>4</td>\n",
       "      <td>12</td>\n",
       "      <td>Key</td>\n",
       "    </tr>\n",
       "    <tr>\n",
       "      <th>12748.0</th>\n",
       "      <td>1</td>\n",
       "      <td>4397</td>\n",
       "      <td>31650.78</td>\n",
       "      <td>4</td>\n",
       "      <td>4</td>\n",
       "      <td>4</td>\n",
       "      <td>12</td>\n",
       "      <td>Key</td>\n",
       "    </tr>\n",
       "    <tr>\n",
       "      <th>12749.0</th>\n",
       "      <td>4</td>\n",
       "      <td>199</td>\n",
       "      <td>4090.88</td>\n",
       "      <td>4</td>\n",
       "      <td>4</td>\n",
       "      <td>4</td>\n",
       "      <td>12</td>\n",
       "      <td>Key</td>\n",
       "    </tr>\n",
       "    <tr>\n",
       "      <th>12820.0</th>\n",
       "      <td>3</td>\n",
       "      <td>59</td>\n",
       "      <td>942.34</td>\n",
       "      <td>4</td>\n",
       "      <td>3</td>\n",
       "      <td>3</td>\n",
       "      <td>10</td>\n",
       "      <td>Key</td>\n",
       "    </tr>\n",
       "  </tbody>\n",
       "</table>\n",
       "</div>"
      ],
      "text/plain": [
       "            Recency  Frequency  Monetary  R  F  M RFM_score    RFM_level\n",
       "CustomerID                                                              \n",
       "12346.0         326          1  77183.60  1  1  4         6  Last chance\n",
       "12747.0           2        103   4196.01  4  4  4        12          Key\n",
       "12748.0           1       4397  31650.78  4  4  4        12          Key\n",
       "12749.0           4        199   4090.88  4  4  4        12          Key\n",
       "12820.0           3         59    942.34  4  3  3        10          Key"
      ]
     },
     "execution_count": 91,
     "metadata": {},
     "output_type": "execute_result"
    }
   ],
   "source": [
    "# apply to our dataframe\n",
    "compare_rfm['RFM_level'] = compare_rfm.apply(action_level, axis=1)\n",
    "compare_rfm.head()"
   ]
  },
  {
   "cell_type": "code",
   "execution_count": 92,
   "id": "e7aebae9",
   "metadata": {},
   "outputs": [
    {
     "data": {
      "text/html": [
       "<div>\n",
       "<style scoped>\n",
       "    .dataframe tbody tr th:only-of-type {\n",
       "        vertical-align: middle;\n",
       "    }\n",
       "\n",
       "    .dataframe tbody tr th {\n",
       "        vertical-align: top;\n",
       "    }\n",
       "\n",
       "    .dataframe thead tr th {\n",
       "        text-align: left;\n",
       "    }\n",
       "\n",
       "    .dataframe thead tr:last-of-type th {\n",
       "        text-align: right;\n",
       "    }\n",
       "</style>\n",
       "<table border=\"1\" class=\"dataframe\">\n",
       "  <thead>\n",
       "    <tr>\n",
       "      <th></th>\n",
       "      <th>Recency</th>\n",
       "      <th>Frequency</th>\n",
       "      <th colspan=\"2\" halign=\"left\">Monetary</th>\n",
       "    </tr>\n",
       "    <tr>\n",
       "      <th></th>\n",
       "      <th>mean</th>\n",
       "      <th>mean</th>\n",
       "      <th>mean</th>\n",
       "      <th>count</th>\n",
       "    </tr>\n",
       "    <tr>\n",
       "      <th>RFM_level</th>\n",
       "      <th></th>\n",
       "      <th></th>\n",
       "      <th></th>\n",
       "      <th></th>\n",
       "    </tr>\n",
       "  </thead>\n",
       "  <tbody>\n",
       "    <tr>\n",
       "      <th>Key</th>\n",
       "      <td>19.865267</td>\n",
       "      <td>221.300962</td>\n",
       "      <td>4605.853088</td>\n",
       "      <td>1143</td>\n",
       "    </tr>\n",
       "    <tr>\n",
       "      <th>Last chance</th>\n",
       "      <td>89.421376</td>\n",
       "      <td>33.045455</td>\n",
       "      <td>777.205725</td>\n",
       "      <td>814</td>\n",
       "    </tr>\n",
       "    <tr>\n",
       "      <th>Loyal</th>\n",
       "      <td>54.255696</td>\n",
       "      <td>65.513924</td>\n",
       "      <td>1323.467813</td>\n",
       "      <td>790</td>\n",
       "    </tr>\n",
       "    <tr>\n",
       "      <th>Unimportant</th>\n",
       "      <td>191.014542</td>\n",
       "      <td>14.801540</td>\n",
       "      <td>258.045518</td>\n",
       "      <td>1169</td>\n",
       "    </tr>\n",
       "  </tbody>\n",
       "</table>\n",
       "</div>"
      ],
      "text/plain": [
       "                Recency   Frequency     Monetary      \n",
       "                   mean        mean         mean count\n",
       "RFM_level                                             \n",
       "Key           19.865267  221.300962  4605.853088  1143\n",
       "Last chance   89.421376   33.045455   777.205725   814\n",
       "Loyal         54.255696   65.513924  1323.467813   790\n",
       "Unimportant  191.014542   14.801540   258.045518  1169"
      ]
     },
     "metadata": {},
     "output_type": "display_data"
    }
   ],
   "source": [
    "# RFM statistics 2010-2011\n",
    "compare_rfm_overview = compare_rfm.groupby(['RFM_level']).agg({'Recency':'mean', 'Frequency':'mean', 'Monetary':['mean','count']})\n",
    "display(compare_rfm_overview)"
   ]
  },
  {
   "cell_type": "code",
   "execution_count": 93,
   "id": "0e1c0c19",
   "metadata": {},
   "outputs": [
    {
     "data": {
      "text/html": [
       "<div>\n",
       "<style scoped>\n",
       "    .dataframe tbody tr th:only-of-type {\n",
       "        vertical-align: middle;\n",
       "    }\n",
       "\n",
       "    .dataframe tbody tr th {\n",
       "        vertical-align: top;\n",
       "    }\n",
       "\n",
       "    .dataframe thead tr th {\n",
       "        text-align: left;\n",
       "    }\n",
       "\n",
       "    .dataframe thead tr:last-of-type th {\n",
       "        text-align: right;\n",
       "    }\n",
       "</style>\n",
       "<table border=\"1\" class=\"dataframe\">\n",
       "  <thead>\n",
       "    <tr>\n",
       "      <th></th>\n",
       "      <th>Recency</th>\n",
       "      <th>Frequency</th>\n",
       "      <th colspan=\"2\" halign=\"left\">Monetary</th>\n",
       "    </tr>\n",
       "    <tr>\n",
       "      <th></th>\n",
       "      <th>mean</th>\n",
       "      <th>mean</th>\n",
       "      <th>mean</th>\n",
       "      <th>count</th>\n",
       "    </tr>\n",
       "    <tr>\n",
       "      <th>RFM_level</th>\n",
       "      <th></th>\n",
       "      <th></th>\n",
       "      <th></th>\n",
       "      <th></th>\n",
       "    </tr>\n",
       "  </thead>\n",
       "  <tbody>\n",
       "    <tr>\n",
       "      <th>Key</th>\n",
       "      <td>20.054936</td>\n",
       "      <td>225.876592</td>\n",
       "      <td>5178.887882</td>\n",
       "      <td>1256</td>\n",
       "    </tr>\n",
       "    <tr>\n",
       "      <th>Last chance</th>\n",
       "      <td>88.383025</td>\n",
       "      <td>33.078346</td>\n",
       "      <td>781.682601</td>\n",
       "      <td>919</td>\n",
       "    </tr>\n",
       "    <tr>\n",
       "      <th>Loyal</th>\n",
       "      <td>55.089552</td>\n",
       "      <td>66.405281</td>\n",
       "      <td>1356.299497</td>\n",
       "      <td>871</td>\n",
       "    </tr>\n",
       "    <tr>\n",
       "      <th>Unimportant</th>\n",
       "      <td>192.064441</td>\n",
       "      <td>15.020963</td>\n",
       "      <td>263.608145</td>\n",
       "      <td>1288</td>\n",
       "    </tr>\n",
       "  </tbody>\n",
       "</table>\n",
       "</div>"
      ],
      "text/plain": [
       "                Recency   Frequency     Monetary      \n",
       "                   mean        mean         mean count\n",
       "RFM_level                                             \n",
       "Key           20.054936  225.876592  5178.887882  1256\n",
       "Last chance   88.383025   33.078346   781.682601   919\n",
       "Loyal         55.089552   66.405281  1356.299497   871\n",
       "Unimportant  192.064441   15.020963   263.608145  1288"
      ]
     },
     "metadata": {},
     "output_type": "display_data"
    }
   ],
   "source": [
    "# RFM statistics 2018-2019\n",
    "rfm_overview = rfm.groupby(['RFM_level']).agg({'Recency':'mean', 'Frequency':'mean', 'Monetary':['mean','count']})\n",
    "display(rfm_overview)"
   ]
  },
  {
   "cell_type": "markdown",
   "id": "e86df40f",
   "metadata": {},
   "source": [
    "Of course, one can see that these datasets were almost identical and do not come from real-life data collected in the respected years. This is one reason why we almost see no difference in any of the RFM metrics. Nevertheless, I will now use some macro UK data to further analyze similarities and differences between the two datasets and will evaluate if the online company is on the right track."
   ]
  },
  {
   "cell_type": "markdown",
   "id": "3fd873b0",
   "metadata": {},
   "source": [
    "##### 2.3.3. Macro Data Analysis"
   ]
  },
  {
   "cell_type": "code",
   "execution_count": 94,
   "id": "1ca784e1",
   "metadata": {},
   "outputs": [
    {
     "data": {
      "text/html": [
       "<div>\n",
       "<style scoped>\n",
       "    .dataframe tbody tr th:only-of-type {\n",
       "        vertical-align: middle;\n",
       "    }\n",
       "\n",
       "    .dataframe tbody tr th {\n",
       "        vertical-align: top;\n",
       "    }\n",
       "\n",
       "    .dataframe thead th {\n",
       "        text-align: right;\n",
       "    }\n",
       "</style>\n",
       "<table border=\"1\" class=\"dataframe\">\n",
       "  <thead>\n",
       "    <tr style=\"text-align: right;\">\n",
       "      <th></th>\n",
       "      <th>Year</th>\n",
       "      <th>GDP (billion USD)</th>\n",
       "      <th>Inflation rate (in %)</th>\n",
       "      <th>% of retail sales made online</th>\n",
       "    </tr>\n",
       "  </thead>\n",
       "  <tbody>\n",
       "    <tr>\n",
       "      <th>0</th>\n",
       "      <td>2010</td>\n",
       "      <td>2.48</td>\n",
       "      <td>2.49</td>\n",
       "      <td>7.4</td>\n",
       "    </tr>\n",
       "    <tr>\n",
       "      <th>1</th>\n",
       "      <td>2011</td>\n",
       "      <td>2.66</td>\n",
       "      <td>3.86</td>\n",
       "      <td>8.5</td>\n",
       "    </tr>\n",
       "    <tr>\n",
       "      <th>2</th>\n",
       "      <td>2012</td>\n",
       "      <td>2.70</td>\n",
       "      <td>2.57</td>\n",
       "      <td>9.5</td>\n",
       "    </tr>\n",
       "    <tr>\n",
       "      <th>3</th>\n",
       "      <td>2013</td>\n",
       "      <td>2.78</td>\n",
       "      <td>2.29</td>\n",
       "      <td>10.3</td>\n",
       "    </tr>\n",
       "    <tr>\n",
       "      <th>4</th>\n",
       "      <td>2014</td>\n",
       "      <td>3.07</td>\n",
       "      <td>1.45</td>\n",
       "      <td>11.2</td>\n",
       "    </tr>\n",
       "    <tr>\n",
       "      <th>5</th>\n",
       "      <td>2015</td>\n",
       "      <td>2.93</td>\n",
       "      <td>0.37</td>\n",
       "      <td>12.8</td>\n",
       "    </tr>\n",
       "    <tr>\n",
       "      <th>6</th>\n",
       "      <td>2016</td>\n",
       "      <td>2.69</td>\n",
       "      <td>1.01</td>\n",
       "      <td>14.9</td>\n",
       "    </tr>\n",
       "    <tr>\n",
       "      <th>7</th>\n",
       "      <td>2017</td>\n",
       "      <td>2.66</td>\n",
       "      <td>2.56</td>\n",
       "      <td>16.5</td>\n",
       "    </tr>\n",
       "    <tr>\n",
       "      <th>8</th>\n",
       "      <td>2018</td>\n",
       "      <td>2.86</td>\n",
       "      <td>2.29</td>\n",
       "      <td>17.8</td>\n",
       "    </tr>\n",
       "    <tr>\n",
       "      <th>9</th>\n",
       "      <td>2019</td>\n",
       "      <td>2.83</td>\n",
       "      <td>1.74</td>\n",
       "      <td>19.1</td>\n",
       "    </tr>\n",
       "    <tr>\n",
       "      <th>10</th>\n",
       "      <td>2020</td>\n",
       "      <td>2.71</td>\n",
       "      <td>0.99</td>\n",
       "      <td>24.7</td>\n",
       "    </tr>\n",
       "  </tbody>\n",
       "</table>\n",
       "</div>"
      ],
      "text/plain": [
       "    Year  GDP (billion USD)  Inflation rate (in %)  \\\n",
       "0   2010               2.48                   2.49   \n",
       "1   2011               2.66                   3.86   \n",
       "2   2012               2.70                   2.57   \n",
       "3   2013               2.78                   2.29   \n",
       "4   2014               3.07                   1.45   \n",
       "5   2015               2.93                   0.37   \n",
       "6   2016               2.69                   1.01   \n",
       "7   2017               2.66                   2.56   \n",
       "8   2018               2.86                   2.29   \n",
       "9   2019               2.83                   1.74   \n",
       "10  2020               2.71                   0.99   \n",
       "\n",
       "    % of retail sales made online  \n",
       "0                             7.4  \n",
       "1                             8.5  \n",
       "2                             9.5  \n",
       "3                            10.3  \n",
       "4                            11.2  \n",
       "5                            12.8  \n",
       "6                            14.9  \n",
       "7                            16.5  \n",
       "8                            17.8  \n",
       "9                            19.1  \n",
       "10                           24.7  "
      ]
     },
     "execution_count": 94,
     "metadata": {},
     "output_type": "execute_result"
    }
   ],
   "source": [
    "# importing created excel file with data on GDP, inflation rate and % of retail sales made online \n",
    "macro = pd.read_excel('macro.xlsx')\n",
    "macro"
   ]
  },
  {
   "cell_type": "code",
   "execution_count": 95,
   "id": "844a6f74",
   "metadata": {},
   "outputs": [
    {
     "data": {
      "image/png": "[encoded data removed]",
      "text/plain": [
       "<Figure size 864x720 with 3 Axes>"
      ]
     },
     "metadata": {
      "needs_background": "light"
     },
     "output_type": "display_data"
    }
   ],
   "source": [
    "# plotting the different macro-data to get an overview\n",
    "plt.figure(figsize=(12,10))\n",
    "# GDP\n",
    "plt.subplot(3, 1, 1); sb.lineplot(data=macro, x='Year', y='GDP (billion USD)'); \n",
    "plt.axvline(x=2011, color='red'); plt.axvline(x=2019, color='green')\n",
    "# inflation rate (2011 and 2019 are idenitified as main years)\n",
    "plt.subplot(3, 1, 2); sb.lineplot(data=macro, x='Year', y='Inflation rate (in %)')\n",
    "plt.axvline(x=2011, color='red'); plt.axvline(x=2019, color='green')\n",
    "# online retail sales (2011 and 2019 are idenitified as main years)\n",
    "plt.subplot(3, 1, 3); sb.lineplot(data=macro, x='Year', y='% of retail sales made online')\n",
    "plt.axvline(x=2011, color='red'); plt.axvline(x=2019, color='green')\n",
    "# Show the plot (2011 and 2019 are idenitified as main years)\n",
    "plt.show();"
   ]
  },
  {
   "cell_type": "markdown",
   "id": "f182ff11",
   "metadata": {},
   "source": [
    "Under the assumption that the datasets included real-life data which was in no form identical to each other, we can draw the following conclusions:\n",
    "\n",
    "1. GDP: From 2011 to 2019, the GDP has slightly increased from 2.66 billion USD to 2.83 billion USD. This is a percentage increase of 6.3% and is very similar to the increase in revenue per order (6.4%) from 2011 to 2019. According to the GDP, the online shop has performed as expected.\n",
    "\n",
    "2. Inflation rate: The inflation rate in 2011 of 3.86% was comparably high and much higher compared to the 1.74% in 2019. Genreally, the inflation rate was positive, meaning that products should have increased in price over time. Taking into consideration the inflation rates from 2010 until 2019 and multiply them, products are expected to cost about 14% more. But when we look at our date frames we can see, that the average unit price remained unchanged. Considering the increased costs for our online shop (storage costs, labour costs etc.), the online shop probably made less profit and really has to think about a unit price increase.\n",
    "\n",
    "3. Retail sales made online: Unsurprisingly, online sales exploded over the last years. While less than 10% of total retail sales were made online in 2011, nearly one in five will be in 2019. Unfortunately, our online ship could not profit from this trend. Even though the total number of one-off orders has increased from 17906 to 19781, these figures are far from doubling."
   ]
  },
  {
   "cell_type": "code",
   "execution_count": 96,
   "id": "2fcdaa10",
   "metadata": {},
   "outputs": [
    {
     "name": "stdout",
     "output_type": "stream",
     "text": [
      "Revenue per order from 2018 to 2019 is 520$.\n",
      "Revenue per order from 2010 to 2011 is 489$.\n"
     ]
    }
   ],
   "source": [
    "# GDP calculations\n",
    "print('Revenue per order from 2018 to 2019 is {}$.'.format(round(df['Revenue'].sum() / df['InvoiceNo'].nunique()),0))\n",
    "print('Revenue per order from 2010 to 2011 is {}$.'.format(round(compare_df['Revenue'].sum() / compare_df['InvoiceNo'].nunique()),0))"
   ]
  },
  {
   "cell_type": "code",
   "execution_count": 97,
   "id": "dcf5d66d",
   "metadata": {},
   "outputs": [
    {
     "name": "stdout",
     "output_type": "stream",
     "text": [
      "The average unit price from 2018 to 2019 was 3.335198133971769$.\n",
      "The average unit price from 2010 to 2011 was 3.3585087129830224$.\n"
     ]
    }
   ],
   "source": [
    "# inflation rate calcualtions\n",
    "print('The average unit price from 2018 to 2019 was {}$.'.format(df['UnitPrice'].mean()))\n",
    "print('The average unit price from 2010 to 2011 was {}$.'.format(compare_df['UnitPrice'].mean()))"
   ]
  },
  {
   "cell_type": "code",
   "execution_count": 98,
   "id": "689f88a1",
   "metadata": {},
   "outputs": [
    {
     "name": "stdout",
     "output_type": "stream",
     "text": [
      "The total number of unique orders between 2018 and 2019 was 19781.\n",
      "The total number of unique orders between 2010 and 2011 was 17906.\n"
     ]
    }
   ],
   "source": [
    "# online retail sales calculations\n",
    "print('The total number of unique orders between 2018 and 2019 was {}.'.format(df['InvoiceNo'].nunique()))\n",
    "print('The total number of unique orders between 2010 and 2011 was {}.'.format(compare_df['InvoiceNo'].nunique()))"
   ]
  },
  {
   "cell_type": "markdown",
   "id": "8364cb06",
   "metadata": {},
   "source": [
    "### 3. Testing hypotheses"
   ]
  },
  {
   "cell_type": "markdown",
   "id": "c95b60c2",
   "metadata": {},
   "source": [
    "#### 3.1 First Hypothesis:\n",
    "\n",
    "\"20% of the total customers are responsible for 80% of the total revenue\"."
   ]
  },
  {
   "cell_type": "code",
   "execution_count": 99,
   "id": "f6f8d935",
   "metadata": {},
   "outputs": [],
   "source": [
    "# copy original data frame for this special task\n",
    "df_revenue = df.copy()\n",
    "# drop missing CustomerIDs \n",
    "df_revenue.dropna(subset=['CustomerID']);"
   ]
  },
  {
   "cell_type": "code",
   "execution_count": 100,
   "id": "6167fbb3",
   "metadata": {},
   "outputs": [],
   "source": [
    "# group by customer and diplay total revenue per customers\n",
    "rev_per_cust= df_revenue.groupby('CustomerID')['Revenue'].sum()\n",
    "# sort the results in descending order\n",
    "rev_per_cust= rev_per_cust.sort_values(ascending=False)\n",
    "#get top 20% by dividing the number of unique Customers by 5\n",
    "top_20_percent = int(round(df_revenue['CustomerID'].nunique()/5,0))\n",
    "# get the total revenue of the top 20% of customers\n",
    "revenue_of_top_20_perc = rev_per_cust[0:top_20_percent].sum()"
   ]
  },
  {
   "cell_type": "code",
   "execution_count": 101,
   "id": "c76a6251",
   "metadata": {},
   "outputs": [
    {
     "name": "stdout",
     "output_type": "stream",
     "text": [
      "63.0\n"
     ]
    }
   ],
   "source": [
    "# calcualting total revenue made by all customers\n",
    "overall_revenue = df_revenue['Revenue'].sum()\n",
    "#calculate ratio of overall revenue (expected > 80%)\n",
    "first_hypothesis = round(revenue_of_top_20_perc/overall_revenue*100,0)\n",
    "print(first_hypothesis)"
   ]
  },
  {
   "cell_type": "markdown",
   "id": "bd19d8a3",
   "metadata": {},
   "source": [
    "My initial hypothesis was not true. The top 20% of customers in terms of revenue are only responsible for 63% of the overall profit but not for 80%."
   ]
  },
  {
   "cell_type": "markdown",
   "id": "27ed5873",
   "metadata": {},
   "source": [
    "#### 3.2 Second Hypothesis:\n",
    "\n",
    "\"Cheap products (products which cost 2$ or less) are responsible for more than 70% of total revenue\"."
   ]
  },
  {
   "cell_type": "code",
   "execution_count": 102,
   "id": "5c16eeee",
   "metadata": {},
   "outputs": [],
   "source": [
    "# create new dataframe for our second hypothesis\n",
    "df_cheap =df.copy()"
   ]
  },
  {
   "cell_type": "code",
   "execution_count": 103,
   "id": "009fe802",
   "metadata": {},
   "outputs": [],
   "source": [
    "# filter for products which cost 2$ or less\n",
    "df_cheap = df_cheap[df_cheap['UnitPrice'] <=2]"
   ]
  },
  {
   "cell_type": "code",
   "execution_count": 104,
   "id": "e567ad57",
   "metadata": {},
   "outputs": [],
   "source": [
    "# calculate total revenue of cheap products\n",
    "df_cheap_revenue = df_cheap['Revenue'].sum()"
   ]
  },
  {
   "cell_type": "code",
   "execution_count": 105,
   "id": "74516ed9",
   "metadata": {},
   "outputs": [
    {
     "name": "stdout",
     "output_type": "stream",
     "text": [
      "37.0\n"
     ]
    }
   ],
   "source": [
    "# calcualting percentage of total revenue (expected to be > 70)\n",
    "second_hypothesis = round(df_cheap_revenue / overall_revenue *100,0)\n",
    "print(second_hypothesis)"
   ]
  },
  {
   "cell_type": "markdown",
   "id": "7c20e853",
   "metadata": {},
   "source": [
    "This time I was not wrong, I was very wrong! Cheap products only contribute 37% to the total revenue. By the way, my hypothesis would have been true if I would have included products which cost 5$ or less."
   ]
  },
  {
   "cell_type": "markdown",
   "id": "5e11f7c2",
   "metadata": {},
   "source": [
    "#### 3.3 Third Hypothesis:\n",
    "\n",
    "\"Products with shorter product description (shorter than the median) are bought more frequently.\""
   ]
  },
  {
   "cell_type": "code",
   "execution_count": 106,
   "id": "a63ed44b",
   "metadata": {},
   "outputs": [],
   "source": [
    "# create new dataframe for third hypothesis\n",
    "df_description = df.copy()\n",
    "# drop missing description values as they do not have a length\n",
    "df_description.dropna(subset=['Description'])\n",
    "#create a column to display charachter lenght of each description\n",
    "df_description['description_length'] = [len(x) for x in df_description['Description']]"
   ]
  },
  {
   "cell_type": "code",
   "execution_count": 107,
   "id": "4dd237ed",
   "metadata": {},
   "outputs": [],
   "source": [
    "# calculating median lenght to divide products into two groups\n",
    "median = int(df_description['description_length'].median())\n",
    "# creating a group with products which have a description length shorter than the median\n",
    "group_short = df_description[df_description['description_length'] < median]\n",
    "# creating a group with products which have a description length longer than the median\n",
    "group_long = df_description[df_description['description_length'] > median]"
   ]
  },
  {
   "cell_type": "code",
   "execution_count": 108,
   "id": "d464f6f2",
   "metadata": {},
   "outputs": [],
   "source": [
    "# calculating total quantity of products with a product length less than the median\n",
    "quantity_group_short = group_short['Quantity'].sum()\n",
    "# calculating total quantity of products with a product length longer than the median\n",
    "quantity_group_long = group_long['Quantity'].sum()"
   ]
  },
  {
   "cell_type": "code",
   "execution_count": 109,
   "id": "00442b2d",
   "metadata": {},
   "outputs": [
    {
     "name": "stdout",
     "output_type": "stream",
     "text": [
      "False\n"
     ]
    }
   ],
   "source": [
    "#compare the qunatity of the two groups with a boolean expression (expected to be true)\n",
    "third_hypothesis = quantity_group_short > quantity_group_long\n",
    "print(third_hypothesis)"
   ]
  },
  {
   "cell_type": "code",
   "execution_count": 110,
   "id": "74a676f5",
   "metadata": {},
   "outputs": [
    {
     "name": "stdout",
     "output_type": "stream",
     "text": [
      "quantity_group_short: 2493953\n",
      "quantity_group_long: 2658142\n"
     ]
    }
   ],
   "source": [
    "# print actual values\n",
    "print('quantity_group_short: {}'.format(quantity_group_short))\n",
    "print('quantity_group_long: {}'.format(quantity_group_long))"
   ]
  },
  {
   "cell_type": "markdown",
   "id": "9a998880",
   "metadata": {},
   "source": [
    "That's three wrong hypotheses in a row! Although it was close this time, products with a longer product description were bought more often than ones with a shorter description."
   ]
  },
  {
   "cell_type": "markdown",
   "id": "eeb83f67",
   "metadata": {},
   "source": [
    "#### 3.4 Fourth Hypothesis:\n",
    "\n",
    "\"Most revenue is made around christmas time ( in the second half of December).\""
   ]
  },
  {
   "cell_type": "code",
   "execution_count": 111,
   "id": "1d326dd6",
   "metadata": {},
   "outputs": [],
   "source": [
    "# creating a new frame for this hypothesis\n",
    "df_christmas = df.copy()"
   ]
  },
  {
   "cell_type": "code",
   "execution_count": 112,
   "id": "c75a5314",
   "metadata": {},
   "outputs": [],
   "source": [
    "# exclude dates which were included in 2018 and 2019\n",
    "df_christmas = df_christmas[df_christmas['InvoiceDate'] >'2018-12-07']"
   ]
  },
  {
   "cell_type": "code",
   "execution_count": 113,
   "id": "b41299fc",
   "metadata": {},
   "outputs": [
    {
     "data": {
      "image/png": "[encoded data removed]",
      "text/plain": [
       "<Figure size 432x288 with 1 Axes>"
      ]
     },
     "metadata": {
      "needs_background": "light"
     },
     "output_type": "display_data"
    }
   ],
   "source": [
    "# plot revenue\n",
    "sb.lineplot(data=df_christmas, x='Month', y='Revenue');"
   ]
  },
  {
   "cell_type": "markdown",
   "id": "310ae56f",
   "metadata": {},
   "source": [
    "Without further calculations, it is easy to see that this hypothesis is indeed correct. Unsurprisingly for an online shop, the December outperformed all other months."
   ]
  },
  {
   "cell_type": "markdown",
   "id": "90f4de9a",
   "metadata": {},
   "source": [
    "### 4. Conclusions and call to action"
   ]
  },
  {
   "cell_type": "markdown",
   "id": "8da88974",
   "metadata": {},
   "source": [
    "After long days of analysis and several insights which were derived from the data, it is time to finally meet the overall goal by drastically reducing product offer and identyfying customers on which not to spend any resources on."
   ]
  },
  {
   "cell_type": "code",
   "execution_count": 176,
   "id": "369eb13c",
   "metadata": {},
   "outputs": [],
   "source": [
    "#copy df to create a final_df\n",
    "final_df = df.copy()"
   ]
  },
  {
   "cell_type": "code",
   "execution_count": 177,
   "id": "dc8dfacd",
   "metadata": {},
   "outputs": [
    {
     "data": {
      "text/plain": [
       "cluster\n",
       "party      37.289673\n",
       "holders    30.399315\n",
       "alarms     24.543995\n",
       "bags       22.158206\n",
       "lunch      21.668687\n",
       "tins       20.994244\n",
       "pink       18.364652\n",
       "wood       17.995609\n",
       "metal      16.136277\n",
       "cakes      15.510918\n",
       "Name: Revenue, dtype: float64"
      ]
     },
     "execution_count": 177,
     "metadata": {},
     "output_type": "execute_result"
    }
   ],
   "source": [
    "# calculate revenue_per_cluster\n",
    "revenue_per_cluster = df.groupby('cluster')['Revenue'].mean()\n",
    "revenue_per_cluster.sort_values(ascending=False)"
   ]
  },
  {
   "cell_type": "code",
   "execution_count": 178,
   "id": "946d4d62",
   "metadata": {
    "scrolled": true
   },
   "outputs": [],
   "source": [
    "# remove the 40% lowest clusters with regard to average revenue (cakes, metal, wood,tins)\n",
    "final_df = final_df[final_df['cluster'] != 'cakes']\n",
    "final_df = final_df[final_df['cluster'] != 'metal']\n",
    "final_df = final_df[final_df['cluster'] != 'wood']\n",
    "final_df = final_df[final_df['cluster'] != 'tins']"
   ]
  },
  {
   "cell_type": "code",
   "execution_count": 181,
   "id": "947bd2e2",
   "metadata": {},
   "outputs": [
    {
     "name": "stdout",
     "output_type": "stream",
     "text": [
      "Number of unique prodcuts before removing low-revneue products: 3917.\n",
      "Number of unique prodcuts after removing low-revneue products: 3353.\n"
     ]
    }
   ],
   "source": [
    "print('Number of unique prodcuts before removing low-revneue products: {}.'.format(df['StockCode'].nunique()))\n",
    "print('Number of unique prodcuts after removing low-revneue products: {}.'.format(final_df['StockCode'].nunique()))"
   ]
  },
  {
   "cell_type": "markdown",
   "id": "a452c18b",
   "metadata": {},
   "source": [
    "We finally reduced our total product offer by almost 400 prodcuts. This may help our shop to further increase profitability."
   ]
  },
  {
   "cell_type": "code",
   "execution_count": 182,
   "id": "33e05aae",
   "metadata": {},
   "outputs": [],
   "source": [
    "#copy rfm to create final_rfm\n",
    "final_rfm = rfm.copy()"
   ]
  },
  {
   "cell_type": "code",
   "execution_count": 183,
   "id": "6f9fb14b",
   "metadata": {},
   "outputs": [],
   "source": [
    "# remove unimportant / irrelevant customers\n",
    "final_rfm = final_rfm[final_rfm['RFM_level'] != 'Unimportant']"
   ]
  },
  {
   "cell_type": "code",
   "execution_count": 188,
   "id": "66b29960",
   "metadata": {},
   "outputs": [
    {
     "name": "stdout",
     "output_type": "stream",
     "text": [
      "Total number of unique customers before: 4334.\n",
      "Total number of unique customers after: 3046.\n"
     ]
    }
   ],
   "source": [
    "print('Total number of unique customers before: {}.'.format(len(rfm)))\n",
    "print('Total number of unique customers after: {}.'.format(len(final_rfm)))"
   ]
  },
  {
   "cell_type": "markdown",
   "id": "47245103",
   "metadata": {},
   "source": [
    "We have identified more than 1200 customers which are not worth spending resources (like marketing etc.) on. By doing this, we can spend more resources on customers which really add value to our business."
   ]
  },
  {
   "cell_type": "markdown",
   "id": "950da7f6",
   "metadata": {},
   "source": [
    "### 5. Dashboards\n",
    "\n",
    "Tableau Link:"
   ]
  },
  {
   "cell_type": "code",
   "execution_count": null,
   "id": "5190322c",
   "metadata": {},
   "outputs": [],
   "source": []
  }
 ],
 "metadata": {
  "kernelspec": {
   "display_name": "Python 3 (ipykernel)",
   "language": "python",
   "name": "python3"
  },
  "language_info": {
   "codemirror_mode": {
    "name": "ipython",
    "version": 3
   },
   "file_extension": ".py",
   "mimetype": "text/x-python",
   "name": "python",
   "nbconvert_exporter": "python",
   "pygments_lexer": "ipython3",
   "version": "3.9.12"
  }
 },
 "nbformat": 4,
 "nbformat_minor": 5
}
